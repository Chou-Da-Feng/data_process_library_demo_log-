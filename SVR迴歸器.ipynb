{
 "cells": [
  {
   "attachments": {},
   "cell_type": "markdown",
   "metadata": {},
   "source": [
    "### 支持向量迴歸 (SVR)\n",
    "在sklearn 中 SVM 提供迴歸(Regression)演算法稱SVR\n",
    "\n",
    "1. 支持向量迴歸(Support Vector Regression,SVR)\n",
    "2. 提供線性與非線性SVR\n",
    "\n",
    "兩個非線性的Kernel:\n",
    "1. Polynomial 高次方轉換\n",
    "2. Radial Basis Function 高斯轉換\n",
    "\n",
    "![image](./img/SVR.jpg)"
   ]
  },
  {
   "attachments": {},
   "cell_type": "markdown",
   "metadata": {},
   "source": [
    "### Example 1 (簡單線性回歸)\n",
    "簡單線性回歸舉例， $$ y=ax+b $$ ，a稱為斜率 ， b稱為截距"
   ]
  },
  {
   "cell_type": "code",
   "execution_count": 1,
   "metadata": {},
   "outputs": [
    {
     "data": {
      "image/png": "[encoded data removed]",
      "text/plain": [
       "<Figure size 432x288 with 1 Axes>"
      ]
     },
     "metadata": {
      "needs_background": "light"
     },
     "output_type": "display_data"
    }
   ],
   "source": [
    "#import \n",
    "import numpy as np\n",
    "import matplotlib.pyplot as plt\n",
    "\n",
    "#產生亂數資料\n",
    "np.random.seed(0)\n",
    "noise = np.random.rand(100,1)  #0~1之間 隨機取100個\n",
    "x = np.random.rand(100,1)\n",
    "y = 3 * x + 15 +noise          # y=ax+b Target function a=3,b=15 \n",
    "\n",
    "\n",
    "#plot\n",
    "plt.scatter(x,y,s=10)\n",
    "plt.xlabel(\"x\")\n",
    "plt.ylabel(\"y\")\n",
    "plt.show()"
   ]
  },
  {
   "attachments": {},
   "cell_type": "markdown",
   "metadata": {},
   "source": [
    "### 支持向量迴歸 (Support Vector Regression,SVR) 模型\n",
    "支持向量機 (SVM) 是專門處理分類的問題，還有另一個名詞稱為支持向量迴歸(Support Vector Regression,SVR) 專門處理迴歸問題。\n",
    "SVR是SVM的延伸，而支持向量迴歸只要f(x) 與 y 偏離程度不要太大，既可以認為預測正確。\n",
    "\n",
    "三種不同SVR迴歸器:\n",
    "1. kernel = \"linear\" (線性)\n",
    "2. kernel = \"poly\" (非線性)\n",
    "3. kernel = \"rbf\" (非線性)\n",
    "\n",
    "Methods :\n",
    "\n",
    "1. fit :放入X、y進行模型擬合\n",
    "2. predict : 預測並回傳預測類別\n",
    "3. score : 預測成功的比例"
   ]
  },
  {
   "cell_type": "code",
   "execution_count": 2,
   "metadata": {},
   "outputs": [
    {
     "name": "stderr",
     "output_type": "stream",
     "text": [
      "d:\\Anaconda\\lib\\site-packages\\sklearn\\utils\\validation.py:63: DataConversionWarning: A column-vector y was passed when a 1d array was expected. Please change the shape of y to (n_samples, ), for example using ravel().\n",
      "  return f(*args, **kwargs)\n"
     ]
    }
   ],
   "source": [
    "from sklearn import svm\n",
    "\n",
    "#建立SVR模型\n",
    "linearModel = svm.SVR(C=1,kernel=\"linear\")\n",
    "#使用訓練資料訓練模型\n",
    "linearModel.fit(x,y)\n",
    "#使用訓練資料預測\n",
    "predicted = linearModel.predict(x)"
   ]
  },
  {
   "attachments": {},
   "cell_type": "markdown",
   "metadata": {},
   "source": [
    "### 模型評估\n",
    "scikit-learn KNN回歸模型的score函式是 R2 score， 可作為模型評估依據，其數值越接近於1代表模型越佳。除了R2 score還有其他許多回歸模型的評估方法，例如:MSE、MAE、RMSE。"
   ]
  },
  {
   "cell_type": "code",
   "execution_count": 3,
   "metadata": {},
   "outputs": [
    {
     "name": "stdout",
     "output_type": "stream",
     "text": [
      "R2 score: 0.8868219068851385\n",
      "MSE score: 0.08381812503531369\n"
     ]
    }
   ],
   "source": [
    "from sklearn import metrics\n",
    "print(\"R2 score:\",linearModel.score(x,y))\n",
    "mse = metrics.mean_squared_error(y,predicted)\n",
    "print(\"MSE score:\",mse)"
   ]
  },
  {
   "cell_type": "code",
   "execution_count": 5,
   "metadata": {},
   "outputs": [
    {
     "data": {
      "image/png": "[encoded data removed]",
      "text/plain": [
       "<Figure size 432x288 with 1 Axes>"
      ]
     },
     "metadata": {
      "needs_background": "light"
     },
     "output_type": "display_data"
    }
   ],
   "source": [
    "#plot\n",
    "plt.scatter(x,y,s=10,label=\"True\")\n",
    "plt.scatter(x, predicted,color=\"r\",s=10,label=\"Predicted\")\n",
    "plt.xlabel(\"x\")\n",
    "plt.ylabel(\"y\")\n",
    "plt.show()"
   ]
  },
  {
   "attachments": {},
   "cell_type": "markdown",
   "metadata": {},
   "source": [
    "### SVR 在非線性問題 表現並不理想 不建議使用"
   ]
  }
 ],
 "metadata": {
  "kernelspec": {
   "display_name": "base",
   "language": "python",
   "name": "python3"
  },
  "language_info": {
   "codemirror_mode": {
    "name": "ipython",
    "version": 3
   },
   "file_extension": ".py",
   "mimetype": "text/x-python",
   "name": "python",
   "nbconvert_exporter": "python",
   "pygments_lexer": "ipython3",
   "version": "3.9.7"
  },
  "orig_nbformat": 4,
  "vscode": {
   "interpreter": {
    "hash": "88279d2366fe020547cde40dd65aa0e3aa662a6ec1f3ca12d88834876c85e1a6"
   }
  }
 },
 "nbformat": 4,
 "nbformat_minor": 2
}
