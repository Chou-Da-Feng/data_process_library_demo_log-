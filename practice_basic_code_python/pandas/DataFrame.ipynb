{
 "cells": [
  {
   "cell_type": "code",
   "execution_count": 1,
   "metadata": {},
   "outputs": [],
   "source": [
    "import pandas as pd"
   ]
  },
  {
   "cell_type": "code",
   "execution_count": 9,
   "metadata": {},
   "outputs": [
    {
     "name": "stdout",
     "output_type": "stream",
     "text": [
      "    name  salary\n",
      "a  david   70000\n",
      "b  Wayne   40000\n",
      "c   Tony   30000\n",
      "資料數量 6\n",
      "資料形狀(列,欄) (3, 2)\n",
      "資料索引 Index(['a', 'b', 'c'], dtype='object')\n"
     ]
    }
   ],
   "source": [
    "#資料索引 : pd.DataFrame(字典 , index = 索引列表)\n",
    "\n",
    "data = pd.DataFrame({\n",
    "    \"name\" : ['david' , \"Wayne\" , \"Tony\"],\n",
    "    \"salary\" : [70000,40000,30000]\n",
    "},index=['a','b','c'])\n",
    "\n",
    "print(data)\n",
    "#觀察資料\n",
    "print(\"資料數量\",data.size)\n",
    "print(\"資料形狀(列,欄)\",data.shape)\n",
    "print(\"資料索引\",data.index)"
   ]
  },
  {
   "cell_type": "code",
   "execution_count": null,
   "metadata": {},
   "outputs": [],
   "source": [
    "#取得列(Row/橫向)的Series資料 : 根據順序,根據索引\n",
    "\n",
    "print(\"取得第二列\", data.iloc[1] , sep=\"\\n\")\n",
    "print(\"取得第c列\" , data.loc[\"a\"] , sep=\"\\n\")\n",
    "\n",
    "#取得欄(Column/直向)的Series資料 : 根據欄位名稱\n",
    "print(\"取得 name欄位\" , data['name'] , sep=\"\\n\")\n",
    "\n",
    "names = data[\"name\"]  #取得單維度的資料\n",
    "print('把 name全部轉成大寫' ,names.str.upper(),sep=\"\\n\")\n",
    "\n",
    "\n",
    "\n",
    "#計算薪水平均值\n",
    "salaries = data[\"salary\"]\n",
    "print(salaries.mean())\n"
   ]
  },
  {
   "cell_type": "code",
   "execution_count": 25,
   "metadata": {},
   "outputs": [
    {
     "name": "stdout",
     "output_type": "stream",
     "text": [
      "    name  salary  age  rank           cp\n",
      "a  david   70000   23     5  3043.478261\n",
      "b  Wayne   40000   24     3  1666.666667\n",
      "c   Tony   30000   22     2  1363.636364\n"
     ]
    }
   ],
   "source": [
    "#建立新的欄位\n",
    "\n",
    "data[\"age\"] = [23 , 24 , 22]    #data[新欄位的名稱] = 列表\n",
    "data['rank'] = pd.Series([5,3,2],index=['a','b','c']) #data[新欄位的名稱] = Series的資料\n",
    "data['cp'] = data['salary'] / data['age']\n",
    "print(data)"
   ]
  }
 ],
 "metadata": {
  "kernelspec": {
   "display_name": "env",
   "language": "python",
   "name": "python3"
  },
  "language_info": {
   "codemirror_mode": {
    "name": "ipython",
    "version": 3
   },
   "file_extension": ".py",
   "mimetype": "text/x-python",
   "name": "python",
   "nbconvert_exporter": "python",
   "pygments_lexer": "ipython3",
   "version": "3.9.13"
  },
  "orig_nbformat": 4,
  "vscode": {
   "interpreter": {
    "hash": "4d8f8f06aeace86465c4ac3ec675eb8f9a9c033fa019aea5d2555af33b1b9ed1"
   }
  }
 },
 "nbformat": 4,
 "nbformat_minor": 2
}
