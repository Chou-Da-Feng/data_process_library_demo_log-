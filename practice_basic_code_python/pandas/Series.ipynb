{
 "cells": [
  {
   "cell_type": "code",
   "execution_count": 1,
   "metadata": {},
   "outputs": [],
   "source": [
    "import pandas as pd"
   ]
  },
  {
   "cell_type": "code",
   "execution_count": 8,
   "metadata": {},
   "outputs": [
    {
     "name": "stdout",
     "output_type": "stream",
     "text": [
      "55\n",
      "25.0\n",
      "0     20\n",
      "1     40\n",
      "2     60\n",
      "3    110\n",
      "dtype: int64\n"
     ]
    }
   ],
   "source": [
    "#建立 Series\n",
    "data = pd.Series([10,20,30,55])\n",
    "data2 = data * 2\n",
    "\n",
    "print(data.max())      #找最大值\n",
    "print(data.median())   #找中位數\n",
    "print(data2)           #data中的資料都乘二"
   ]
  },
  {
   "cell_type": "code",
   "execution_count": 9,
   "metadata": {},
   "outputs": [
    {
     "name": "stdout",
     "output_type": "stream",
     "text": [
      "0    False\n",
      "1     True\n",
      "2    False\n",
      "3    False\n",
      "dtype: bool\n"
     ]
    }
   ],
   "source": [
    "data = data ==20\n",
    "print(data)"
   ]
  },
  {
   "cell_type": "code",
   "execution_count": null,
   "metadata": {},
   "outputs": [],
   "source": [
    "#建立DataFrame         #大括弧為字典 key : value\n",
    "data = pd.DataFrame({\n",
    "    \"name\" : ['David' , \"Wayne\" , \"Tony\"],\n",
    "    \"salary\" : [\"70000\",'40000','30000']\n",
    "})\n",
    "\n",
    "#取得特定的欄位\n",
    "print(data[\"name\"])\n",
    "\n",
    "#取得特定的列\n",
    "print(data.iloc[0])   #印出第一行\n",
    "\n",
    "print(data)"
   ]
  },
  {
   "cell_type": "code",
   "execution_count": null,
   "metadata": {},
   "outputs": [],
   "source": [
    "#資料索引\n",
    "data = pd.Series([5 , 4 , -2 , 3 , 7] , index=['a','b','c','d','e'])\n",
    "data\n",
    "\n",
    "print(\"資料型態\",data.dtype)\n",
    "print(\"資料數量\",data.size)\n",
    "print(\"資料索引\",data.index)\n",
    "\n",
    "\n",
    "#取得資料(根據下標 or 索引)\n",
    "print(data[0],data[2],data[\"e\"])\n"
   ]
  },
  {
   "cell_type": "code",
   "execution_count": null,
   "metadata": {},
   "outputs": [],
   "source": [
    "#數字運算\n",
    "data = pd.Series([5 , 4 , -2 , 3 , 7] , index=['a','b','c','d','e'])\n",
    "\n",
    "print(data.max(),data.min(),data.sum(),data.std(),data.median())  #std 標準差 \n",
    "print(\"最大的三個數:\",data.nlargest(3),'最小的兩個數:',data.nsmallest(2))"
   ]
  },
  {
   "cell_type": "code",
   "execution_count": null,
   "metadata": {},
   "outputs": [],
   "source": [
    "#字串運算\n",
    "data = pd.Series([\"你好\",'Python','Pandas'])\n",
    "print(\"全部變小寫:\",data.str.lower())\n",
    "print(data.str.len())\n",
    "print(\"把字串串一起,可自訂連接符號\",data.str.cat(sep='-'))\n",
    "print(\"判斷每個字串是否包含特定的字元\",data.str.contains(\"P\"))\n",
    "print('你好取代乘Hello',data.str.replace(\"你好\",\"Hello\"))"
   ]
  }
 ],
 "metadata": {
  "kernelspec": {
   "display_name": "env",
   "language": "python",
   "name": "python3"
  },
  "language_info": {
   "codemirror_mode": {
    "name": "ipython",
    "version": 3
   },
   "file_extension": ".py",
   "mimetype": "text/x-python",
   "name": "python",
   "nbconvert_exporter": "python",
   "pygments_lexer": "ipython3",
   "version": "3.9.13"
  },
  "orig_nbformat": 4,
  "vscode": {
   "interpreter": {
    "hash": "4d8f8f06aeace86465c4ac3ec675eb8f9a9c033fa019aea5d2555af33b1b9ed1"
   }
  }
 },
 "nbformat": 4,
 "nbformat_minor": 2
}
