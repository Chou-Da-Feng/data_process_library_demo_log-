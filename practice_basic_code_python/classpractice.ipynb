{
 "cells": [
  {
   "cell_type": "code",
   "execution_count": 1,
   "metadata": {},
   "outputs": [
    {
     "data": {
      "text/plain": [
       "'a=1'"
      ]
     },
     "execution_count": 1,
     "metadata": {},
     "output_type": "execute_result"
    }
   ],
   "source": [
    "a = 1\n",
    "f\"a={a}\""
   ]
  },
  {
   "cell_type": "code",
   "execution_count": 2,
   "metadata": {},
   "outputs": [
    {
     "data": {
      "text/plain": [
       "'a=1'"
      ]
     },
     "execution_count": 2,
     "metadata": {},
     "output_type": "execute_result"
    }
   ],
   "source": [
    "\"a={}\".format(a)"
   ]
  },
  {
   "cell_type": "code",
   "execution_count": 2,
   "metadata": {},
   "outputs": [
    {
     "name": "stdout",
     "output_type": "stream",
     "text": [
      "your name:a\n",
      "your phone:0\n",
      "your name:b\n",
      "your phone:111\n"
     ]
    }
   ],
   "source": [
    "class User(object):\n",
    "\n",
    "    def __init__(self, name, phone):\n",
    "        self.name = name\n",
    "        self.phone = phone\n",
    "\n",
    "    def sayHi(self):\n",
    "        print(\"Hi\")\n",
    "\n",
    "lists = [User(\"a\", 000), User(\"b\", 111)]\n",
    "\n",
    "count = len(lists)\n",
    "for i in range(count):\n",
    "    person = lists[i]\n",
    "\n",
    "    print(f\"your name:{person.name}\")\n",
    "    print(f\"your phone:{person.phone}\")"
   ]
  },
  {
   "cell_type": "code",
   "execution_count": 3,
   "metadata": {},
   "outputs": [
    {
     "name": "stdout",
     "output_type": "stream",
     "text": [
      "b\n"
     ]
    }
   ],
   "source": [
    "map = {10:User(\"a\",111), 50:User(\"b\", 111)}\n",
    "\n",
    "myLocation = 20\n",
    "minDistance = 100\n",
    "minLocation = None\n",
    "for location in map.keys():\n",
    "    distance = abs(location - myLocation)\n",
    "    if distance < minDistance:\n",
    "        minLocation = map[location]\n",
    "    \n",
    "\n",
    "print(minLocation.name)"
   ]
  },
  {
   "cell_type": "code",
   "execution_count": null,
   "metadata": {},
   "outputs": [],
   "source": [
    "name1 = \"a\"\n",
    "phone1 = 000\n",
    "\n",
    "name2 = \"b\"\n",
    "phone2 = 111"
   ]
  },
  {
   "cell_type": "code",
   "execution_count": 5,
   "metadata": {},
   "outputs": [
    {
     "data": {
      "text/plain": [
       "'a=13'"
      ]
     },
     "execution_count": 5,
     "metadata": {},
     "output_type": "execute_result"
    }
   ],
   "source": [
    "\"a=%d%d\"%(a,3)"
   ]
  },
  {
   "cell_type": "code",
   "execution_count": 33,
   "metadata": {},
   "outputs": [
    {
     "name": "stdout",
     "output_type": "stream",
     "text": [
      "True\n",
      "My color is None,None seat,car number is None\n",
      "None\n"
     ]
    }
   ],
   "source": [
    "class Cars:\n",
    "    def __init__(self,color=None,seat=None,carnumber=None):\n",
    "        self.color = color\n",
    "        self.seat = seat\n",
    "        self.carnumber = carnumber\n",
    "    \n",
    "    def user(self):\n",
    "        print(f\"My color is {self.color},{self.seat} seat,car number is {self.carnumber}\")\n",
    "#       return None\n",
    "\n",
    "    \n",
    "toyota = Cars()\n",
    "print(isinstance(toyota,Cars))\n",
    "\n",
    "print(toyota.user())\n",
    "\n"
   ]
  }
 ],
 "metadata": {
  "kernelspec": {
   "display_name": "env",
   "language": "python",
   "name": "python3"
  },
  "language_info": {
   "codemirror_mode": {
    "name": "ipython",
    "version": 3
   },
   "file_extension": ".py",
   "mimetype": "text/x-python",
   "name": "python",
   "nbconvert_exporter": "python",
   "pygments_lexer": "ipython3",
   "version": "3.9.13"
  },
  "orig_nbformat": 4,
  "vscode": {
   "interpreter": {
    "hash": "4d8f8f06aeace86465c4ac3ec675eb8f9a9c033fa019aea5d2555af33b1b9ed1"
   }
  }
 },
 "nbformat": 4,
 "nbformat_minor": 2
}
