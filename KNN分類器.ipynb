{
 "cells": [
  {
   "attachments": {},
   "cell_type": "markdown",
   "metadata": {},
   "source": [
    "### K-近鄰演算法(KNN)\n",
    "1. KNN屬於機器學習中的Supervised learning其中一種算法\n",
    "2. KNN 的全名 K Nearest Neighbor , 顧名思義就是k個最接近的你\"鄰居\"\n",
    "3. 分類的標準是由鄰居\"多數表決\"決定的\n",
    "4. KNN可以用作分類或回歸"
   ]
  },
  {
   "attachments": {},
   "cell_type": "markdown",
   "metadata": {},
   "source": [
    "### KNN演算法\n",
    "KNN演算法利用k個最近的鄰居，採多數決標準。來判定新的資料是在哪一群\n",
    "1. 決定k值\n",
    "2. 求每個鄰居(現有資料)跟自己(新資料)之間的距離\n",
    "3. 找出跟自己最近的k個鄰居，查看哪一組鄰居數量最多，就加入哪一組\n",
    "\n",
    "如果還是沒辦法決定在哪一組，回到第一步調整k值，再繼續"
   ]
  },
  {
   "attachments": {},
   "cell_type": "markdown",
   "metadata": {},
   "source": [
    "### 一定要正規化\n",
    "我們可以透過資料正規化讓模型更Robust"
   ]
  },
  {
   "attachments": {},
   "cell_type": "markdown",
   "metadata": {},
   "source": [
    "### 一) 載入套件"
   ]
  },
  {
   "cell_type": "code",
   "execution_count": null,
   "metadata": {},
   "outputs": [],
   "source": [
    "import pandas as pd             #進行資料處理函式庫\n",
    "import numpy as np              #高階大量的維度陣列與矩陣計算\n",
    "import matplotlib.pyplot as plt #繪圖\n",
    "import seaborn as sns           #繪圖\n",
    "import io                       #負責處理資料 input/output\n",
    "import requests                 #HTTP Request下載訓練資料用"
   ]
  },
  {
   "attachments": {},
   "cell_type": "markdown",
   "metadata": {},
   "source": [
    "### 二) 載入資料"
   ]
  },
  {
   "cell_type": "code",
   "execution_count": null,
   "metadata": {},
   "outputs": [],
   "source": [
    "url = \"https://gist.githubusercontent.com/netj/8836201/raw/6f9306ad21398ea43cba4f7d537619d0e07d5ae3/iris.csv\"\n",
    "s = requests.get(url).content\n",
    "df_train = pd.read_csv(io.StringIO(s.decode(\"utf-8\")))\n",
    "#df_train = df_train.drop(labels=[\"sepal.length\"],axis=1)    #移除sepal.length  axis= 1為行 0為列\n",
    "df_train"
   ]
  },
  {
   "attachments": {},
   "cell_type": "markdown",
   "metadata": {},
   "source": [
    "### 三) 手動編碼"
   ]
  },
  {
   "cell_type": "code",
   "execution_count": null,
   "metadata": {},
   "outputs": [],
   "source": [
    "lable_map = {\"Setosa\":0,\"Versicolor\":1,\"Virginica\":2}\n",
    "#將編碼後的lable map存至df_train[\"variety\"]中。\n",
    "df_train[\"Class\"] = df_train[\"variety\"].map(lable_map)\n",
    "\n",
    "lable_map\n",
    "df_train"
   ]
  },
  {
   "attachments": {},
   "cell_type": "markdown",
   "metadata": {},
   "source": [
    "### 三) 檢查缺失值"
   ]
  },
  {
   "cell_type": "code",
   "execution_count": null,
   "metadata": {},
   "outputs": [],
   "source": [
    "X = df_train.drop(labels=[\"variety\",\"Class\"],axis=1).values #移除 class,variety(因為字母不參與訓練)\n",
    "#checked missing data\n",
    "print(\"checked missing data(NAN mount):\",len(np.where(np.isnan(X))[0]))"
   ]
  },
  {
   "attachments": {},
   "cell_type": "markdown",
   "metadata": {},
   "source": [
    "### 四) 切割測試集與訓練集"
   ]
  },
  {
   "cell_type": "code",
   "execution_count": null,
   "metadata": {},
   "outputs": [],
   "source": [
    "from sklearn.model_selection import train_test_split\n",
    "X = df_train.drop(labels=[\"Class\",\"variety\"],axis=1)\n",
    "y = df_train[\"Class\"]\n",
    "X_train , X_test ,y_train , y_test = train_test_split(X,y , test_size = .3 , random_state=42)"
   ]
  },
  {
   "cell_type": "code",
   "execution_count": null,
   "metadata": {},
   "outputs": [],
   "source": [
    "print(\"Training data shape : \",X_train.shape)\n",
    "print(\"Testing data shape : \", X_test.shape)"
   ]
  },
  {
   "attachments": {},
   "cell_type": "markdown",
   "metadata": {},
   "source": [
    "### 建立k-nearest neighbors(KNN)模型\n",
    "Parameters:\n",
    "1. n_neighbors : 設定鄰居的數量(k)，選取最近的k個點，預設為5\n",
    "2. algorithm : 搜尋數演算法{\"auto\",\"ball_tree\",\"kd_tree\",\"brute\"},可選\n",
    "3. metric : 計算距離的方式，預設為毆幾里德距離\n",
    "\n",
    "Attributes:\n",
    "1. classes_ : 取得類別陣列\n",
    "2. effective_metric_ : 取得計算距離的公式\n",
    "\n",
    "Methods : \n",
    "1. fit : 放入X、y進行模型擬合\n",
    "2. predict : 預測並回傳預測類別\n",
    "3. score : 預測成功的比例"
   ]
  },
  {
   "cell_type": "code",
   "execution_count": null,
   "metadata": {},
   "outputs": [],
   "source": [
    "from sklearn.neighbors import KNeighborsClassifier\n",
    "\n",
    "#建立KNN模型\n",
    "knnModel = KNeighborsClassifier(n_neighbors=3)\n",
    "#使用訓練資料訓練模型\n",
    "knnModel.fit(X_train,y_train)\n",
    "#使用訓練資料預測分類\n",
    "predicted = knnModel.predict(X_train)"
   ]
  },
  {
   "attachments": {},
   "cell_type": "markdown",
   "metadata": {},
   "source": [
    "### 使用Score評估模型"
   ]
  },
  {
   "cell_type": "code",
   "execution_count": null,
   "metadata": {},
   "outputs": [],
   "source": [
    "#預測成功的比例\n",
    "print(\"訓練集: \", knnModel.score(X_train,y_train))\n",
    "print(\"測試集: \", knnModel.score(X_test,y_test))"
   ]
  },
  {
   "attachments": {},
   "cell_type": "markdown",
   "metadata": {},
   "source": [
    "### 真實分類"
   ]
  },
  {
   "cell_type": "code",
   "execution_count": null,
   "metadata": {},
   "outputs": [],
   "source": [
    "# 建立訓練集的 DataFrme\n",
    "df_train = pd.DataFrame(X_train)\n",
    "df_train[\"Class\"] = y_train\n",
    "#建立測試集的 DataFrme\n",
    "df_test = pd.DataFrame(X_test)\n",
    "df_test[\"Class\"] = y_test"
   ]
  },
  {
   "cell_type": "code",
   "execution_count": null,
   "metadata": {},
   "outputs": [],
   "source": [
    "sns.lmplot(\"petal.length\" , \"petal.width\" , hue=\"Class\" ,data= df_train,fit_reg=False)"
   ]
  },
  {
   "attachments": {},
   "cell_type": "markdown",
   "metadata": {},
   "source": [
    "### KNN(訓練集)預測結果"
   ]
  },
  {
   "cell_type": "code",
   "execution_count": null,
   "metadata": {},
   "outputs": [],
   "source": [
    "df_train[\"Predict\"]=predicted\n",
    "sns.lmplot(\"petal.length\" , \"petal.width\" , data=df_train,hue=\"Predict\",fit_reg=False)"
   ]
  }
 ],
 "metadata": {
  "kernelspec": {
   "display_name": "base",
   "language": "python",
   "name": "python3"
  },
  "language_info": {
   "codemirror_mode": {
    "name": "ipython",
    "version": 3
   },
   "file_extension": ".py",
   "mimetype": "text/x-python",
   "name": "python",
   "nbconvert_exporter": "python",
   "pygments_lexer": "ipython3",
   "version": "3.9.7"
  },
  "orig_nbformat": 4,
  "vscode": {
   "interpreter": {
    "hash": "88279d2366fe020547cde40dd65aa0e3aa662a6ec1f3ca12d88834876c85e1a6"
   }
  }
 },
 "nbformat": 4,
 "nbformat_minor": 2
}
