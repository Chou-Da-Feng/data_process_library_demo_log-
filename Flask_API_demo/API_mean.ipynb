{
 "cells": [
  {
   "attachments": {},
   "cell_type": "markdown",
   "metadata": {},
   "source": [
    "### 甚麼是API?\n",
    "應用程式介面(Application Programming Interface,API)\n",
    "\n",
    "屬於客戶端與伺服端的溝通橋樑，並提供一個端口能夠做資料交換。\n",
    "\n",
    "![image](API_mean.jpg)"
   ]
  },
  {
   "attachments": {},
   "cell_type": "markdown",
   "metadata": {},
   "source": [
    "### 甚麼是 REST/RESTful ?\n",
    "Representational State Transfer, 簡稱REST,他是一種網路架構風格，近幾年來REST的概念已經被實作在大型網路系統中。"
   ]
  },
  {
   "attachments": {},
   "cell_type": "markdown",
   "metadata": {},
   "source": [
    "### HTTP Request 方法\n",
    "常見的 HTTP Request 有:\n",
    "\n",
    "1. GET 此方法只能向指定的資料要求取得資料，並不會更動到內部資源\n",
    "2. POST 向指定的資源提交資料\n",
    "3. PUT 向指定資源位置提交更新內容\n",
    "4. DELETE 向指定資源位置請求刪除內容"
   ]
  },
  {
   "attachments": {},
   "cell_type": "markdown",
   "metadata": {},
   "source": [
    "### Python Flask API\n",
    "Flask 是一個使用Python 撰寫的輕量級Web應用框架"
   ]
  }
 ],
 "metadata": {
  "kernelspec": {
   "display_name": "Python 3",
   "language": "python",
   "name": "python3"
  },
  "language_info": {
   "name": "python",
   "version": "3.10.4"
  },
  "orig_nbformat": 4,
  "vscode": {
   "interpreter": {
    "hash": "b629c3126b5df0b3c19ac5f524890cb3a3a2e86c1a2f2c4b1c29287aa73e65d0"
   }
  }
 },
 "nbformat": 4,
 "nbformat_minor": 2
}
