{
 "cells": [
  {
   "attachments": {},
   "cell_type": "markdown",
   "metadata": {},
   "source": [
    "### XGBoost\n",
    "XGBoost是目前 Kaggle競賽中最常見到的演算法\n",
    "\n",
    "\n",
    "![image](./img/XGBoost1.jpg)"
   ]
  },
  {
   "attachments": {},
   "cell_type": "markdown",
   "metadata": {},
   "source": [
    "1. XGBoost 全名為eXtreme Gradient Boosting\n",
    "2. 以Gradient Boosting 為基礎下去實作\n",
    "3. 每一棵樹是互相關聯的\n",
    "4. 和隨機森林一樣採用特徵隨機採樣的技巧\n",
    "5. 是Ensemble learning中的Boosting的實例"
   ]
  },
  {
   "attachments": {},
   "cell_type": "markdown",
   "metadata": {},
   "source": [
    "### Bagging vs. Boosting\n",
    "1. Bagging 透過抽樣的方式生成樹，每顆樹彼此獨立\n",
    "2. Boosting 透過序列的方式生成樹，後面生成的樹與前一棵樹相關\n",
    "\n",
    "![image](./img/BaggingBoosting.jpg)"
   ]
  },
  {
   "cell_type": "code",
   "execution_count": 45,
   "metadata": {},
   "outputs": [],
   "source": [
    "import pandas as pd             #進行資料處理函式庫\n",
    "import numpy as np              #高階大量的維度陣列與矩陣計算\n",
    "import matplotlib.pyplot as plt #繪圖\n",
    "import seaborn as sns           #繪圖\n",
    "import io                       #負責處理資料 input/output\n",
    "import requests                 #HTTP Request下載訓練資料用"
   ]
  },
  {
   "attachments": {},
   "cell_type": "markdown",
   "metadata": {},
   "source": [
    "### 一)載入資料集"
   ]
  },
  {
   "cell_type": "code",
   "execution_count": 46,
   "metadata": {},
   "outputs": [
    {
     "data": {
      "text/html": [
       "<div>\n",
       "<style scoped>\n",
       "    .dataframe tbody tr th:only-of-type {\n",
       "        vertical-align: middle;\n",
       "    }\n",
       "\n",
       "    .dataframe tbody tr th {\n",
       "        vertical-align: top;\n",
       "    }\n",
       "\n",
       "    .dataframe thead th {\n",
       "        text-align: right;\n",
       "    }\n",
       "</style>\n",
       "<table border=\"1\" class=\"dataframe\">\n",
       "  <thead>\n",
       "    <tr style=\"text-align: right;\">\n",
       "      <th></th>\n",
       "      <th>sepal.length</th>\n",
       "      <th>sepal.width</th>\n",
       "      <th>petal.length</th>\n",
       "      <th>petal.width</th>\n",
       "      <th>variety</th>\n",
       "    </tr>\n",
       "  </thead>\n",
       "  <tbody>\n",
       "    <tr>\n",
       "      <th>0</th>\n",
       "      <td>5.1</td>\n",
       "      <td>3.5</td>\n",
       "      <td>1.4</td>\n",
       "      <td>0.2</td>\n",
       "      <td>Setosa</td>\n",
       "    </tr>\n",
       "    <tr>\n",
       "      <th>1</th>\n",
       "      <td>4.9</td>\n",
       "      <td>3.0</td>\n",
       "      <td>1.4</td>\n",
       "      <td>0.2</td>\n",
       "      <td>Setosa</td>\n",
       "    </tr>\n",
       "    <tr>\n",
       "      <th>2</th>\n",
       "      <td>4.7</td>\n",
       "      <td>3.2</td>\n",
       "      <td>1.3</td>\n",
       "      <td>0.2</td>\n",
       "      <td>Setosa</td>\n",
       "    </tr>\n",
       "    <tr>\n",
       "      <th>3</th>\n",
       "      <td>4.6</td>\n",
       "      <td>3.1</td>\n",
       "      <td>1.5</td>\n",
       "      <td>0.2</td>\n",
       "      <td>Setosa</td>\n",
       "    </tr>\n",
       "    <tr>\n",
       "      <th>4</th>\n",
       "      <td>5.0</td>\n",
       "      <td>3.6</td>\n",
       "      <td>1.4</td>\n",
       "      <td>0.2</td>\n",
       "      <td>Setosa</td>\n",
       "    </tr>\n",
       "    <tr>\n",
       "      <th>...</th>\n",
       "      <td>...</td>\n",
       "      <td>...</td>\n",
       "      <td>...</td>\n",
       "      <td>...</td>\n",
       "      <td>...</td>\n",
       "    </tr>\n",
       "    <tr>\n",
       "      <th>145</th>\n",
       "      <td>6.7</td>\n",
       "      <td>3.0</td>\n",
       "      <td>5.2</td>\n",
       "      <td>2.3</td>\n",
       "      <td>Virginica</td>\n",
       "    </tr>\n",
       "    <tr>\n",
       "      <th>146</th>\n",
       "      <td>6.3</td>\n",
       "      <td>2.5</td>\n",
       "      <td>5.0</td>\n",
       "      <td>1.9</td>\n",
       "      <td>Virginica</td>\n",
       "    </tr>\n",
       "    <tr>\n",
       "      <th>147</th>\n",
       "      <td>6.5</td>\n",
       "      <td>3.0</td>\n",
       "      <td>5.2</td>\n",
       "      <td>2.0</td>\n",
       "      <td>Virginica</td>\n",
       "    </tr>\n",
       "    <tr>\n",
       "      <th>148</th>\n",
       "      <td>6.2</td>\n",
       "      <td>3.4</td>\n",
       "      <td>5.4</td>\n",
       "      <td>2.3</td>\n",
       "      <td>Virginica</td>\n",
       "    </tr>\n",
       "    <tr>\n",
       "      <th>149</th>\n",
       "      <td>5.9</td>\n",
       "      <td>3.0</td>\n",
       "      <td>5.1</td>\n",
       "      <td>1.8</td>\n",
       "      <td>Virginica</td>\n",
       "    </tr>\n",
       "  </tbody>\n",
       "</table>\n",
       "<p>150 rows × 5 columns</p>\n",
       "</div>"
      ],
      "text/plain": [
       "     sepal.length  sepal.width  petal.length  petal.width    variety\n",
       "0             5.1          3.5           1.4          0.2     Setosa\n",
       "1             4.9          3.0           1.4          0.2     Setosa\n",
       "2             4.7          3.2           1.3          0.2     Setosa\n",
       "3             4.6          3.1           1.5          0.2     Setosa\n",
       "4             5.0          3.6           1.4          0.2     Setosa\n",
       "..            ...          ...           ...          ...        ...\n",
       "145           6.7          3.0           5.2          2.3  Virginica\n",
       "146           6.3          2.5           5.0          1.9  Virginica\n",
       "147           6.5          3.0           5.2          2.0  Virginica\n",
       "148           6.2          3.4           5.4          2.3  Virginica\n",
       "149           5.9          3.0           5.1          1.8  Virginica\n",
       "\n",
       "[150 rows x 5 columns]"
      ]
     },
     "execution_count": 46,
     "metadata": {},
     "output_type": "execute_result"
    }
   ],
   "source": [
    "url = \"https://gist.githubusercontent.com/netj/8836201/raw/6f9306ad21398ea43cba4f7d537619d0e07d5ae3/iris.csv\"\n",
    "s = requests.get(url).content\n",
    "df_train = pd.read_csv(io.StringIO(s.decode(\"utf-8\")))\n",
    "#df_train = df_train.drop(labels=[\"sepal.length\"],axis=1)    #移除sepal.length  axis= 1為行 0為列\n",
    "df_train"
   ]
  },
  {
   "attachments": {},
   "cell_type": "markdown",
   "metadata": {},
   "source": [
    "### 二)手動編碼"
   ]
  },
  {
   "cell_type": "code",
   "execution_count": 47,
   "metadata": {},
   "outputs": [
    {
     "data": {
      "text/html": [
       "<div>\n",
       "<style scoped>\n",
       "    .dataframe tbody tr th:only-of-type {\n",
       "        vertical-align: middle;\n",
       "    }\n",
       "\n",
       "    .dataframe tbody tr th {\n",
       "        vertical-align: top;\n",
       "    }\n",
       "\n",
       "    .dataframe thead th {\n",
       "        text-align: right;\n",
       "    }\n",
       "</style>\n",
       "<table border=\"1\" class=\"dataframe\">\n",
       "  <thead>\n",
       "    <tr style=\"text-align: right;\">\n",
       "      <th></th>\n",
       "      <th>sepal.length</th>\n",
       "      <th>sepal.width</th>\n",
       "      <th>petal.length</th>\n",
       "      <th>petal.width</th>\n",
       "      <th>variety</th>\n",
       "      <th>Class</th>\n",
       "    </tr>\n",
       "  </thead>\n",
       "  <tbody>\n",
       "    <tr>\n",
       "      <th>0</th>\n",
       "      <td>5.1</td>\n",
       "      <td>3.5</td>\n",
       "      <td>1.4</td>\n",
       "      <td>0.2</td>\n",
       "      <td>Setosa</td>\n",
       "      <td>0</td>\n",
       "    </tr>\n",
       "    <tr>\n",
       "      <th>1</th>\n",
       "      <td>4.9</td>\n",
       "      <td>3.0</td>\n",
       "      <td>1.4</td>\n",
       "      <td>0.2</td>\n",
       "      <td>Setosa</td>\n",
       "      <td>0</td>\n",
       "    </tr>\n",
       "    <tr>\n",
       "      <th>2</th>\n",
       "      <td>4.7</td>\n",
       "      <td>3.2</td>\n",
       "      <td>1.3</td>\n",
       "      <td>0.2</td>\n",
       "      <td>Setosa</td>\n",
       "      <td>0</td>\n",
       "    </tr>\n",
       "    <tr>\n",
       "      <th>3</th>\n",
       "      <td>4.6</td>\n",
       "      <td>3.1</td>\n",
       "      <td>1.5</td>\n",
       "      <td>0.2</td>\n",
       "      <td>Setosa</td>\n",
       "      <td>0</td>\n",
       "    </tr>\n",
       "    <tr>\n",
       "      <th>4</th>\n",
       "      <td>5.0</td>\n",
       "      <td>3.6</td>\n",
       "      <td>1.4</td>\n",
       "      <td>0.2</td>\n",
       "      <td>Setosa</td>\n",
       "      <td>0</td>\n",
       "    </tr>\n",
       "    <tr>\n",
       "      <th>...</th>\n",
       "      <td>...</td>\n",
       "      <td>...</td>\n",
       "      <td>...</td>\n",
       "      <td>...</td>\n",
       "      <td>...</td>\n",
       "      <td>...</td>\n",
       "    </tr>\n",
       "    <tr>\n",
       "      <th>145</th>\n",
       "      <td>6.7</td>\n",
       "      <td>3.0</td>\n",
       "      <td>5.2</td>\n",
       "      <td>2.3</td>\n",
       "      <td>Virginica</td>\n",
       "      <td>2</td>\n",
       "    </tr>\n",
       "    <tr>\n",
       "      <th>146</th>\n",
       "      <td>6.3</td>\n",
       "      <td>2.5</td>\n",
       "      <td>5.0</td>\n",
       "      <td>1.9</td>\n",
       "      <td>Virginica</td>\n",
       "      <td>2</td>\n",
       "    </tr>\n",
       "    <tr>\n",
       "      <th>147</th>\n",
       "      <td>6.5</td>\n",
       "      <td>3.0</td>\n",
       "      <td>5.2</td>\n",
       "      <td>2.0</td>\n",
       "      <td>Virginica</td>\n",
       "      <td>2</td>\n",
       "    </tr>\n",
       "    <tr>\n",
       "      <th>148</th>\n",
       "      <td>6.2</td>\n",
       "      <td>3.4</td>\n",
       "      <td>5.4</td>\n",
       "      <td>2.3</td>\n",
       "      <td>Virginica</td>\n",
       "      <td>2</td>\n",
       "    </tr>\n",
       "    <tr>\n",
       "      <th>149</th>\n",
       "      <td>5.9</td>\n",
       "      <td>3.0</td>\n",
       "      <td>5.1</td>\n",
       "      <td>1.8</td>\n",
       "      <td>Virginica</td>\n",
       "      <td>2</td>\n",
       "    </tr>\n",
       "  </tbody>\n",
       "</table>\n",
       "<p>150 rows × 6 columns</p>\n",
       "</div>"
      ],
      "text/plain": [
       "     sepal.length  sepal.width  petal.length  petal.width    variety  Class\n",
       "0             5.1          3.5           1.4          0.2     Setosa      0\n",
       "1             4.9          3.0           1.4          0.2     Setosa      0\n",
       "2             4.7          3.2           1.3          0.2     Setosa      0\n",
       "3             4.6          3.1           1.5          0.2     Setosa      0\n",
       "4             5.0          3.6           1.4          0.2     Setosa      0\n",
       "..            ...          ...           ...          ...        ...    ...\n",
       "145           6.7          3.0           5.2          2.3  Virginica      2\n",
       "146           6.3          2.5           5.0          1.9  Virginica      2\n",
       "147           6.5          3.0           5.2          2.0  Virginica      2\n",
       "148           6.2          3.4           5.4          2.3  Virginica      2\n",
       "149           5.9          3.0           5.1          1.8  Virginica      2\n",
       "\n",
       "[150 rows x 6 columns]"
      ]
     },
     "execution_count": 47,
     "metadata": {},
     "output_type": "execute_result"
    }
   ],
   "source": [
    "lable_map = {\"Setosa\":0,\"Versicolor\":1,\"Virginica\":2}\n",
    "#將編碼後的lable map存至df_train[\"variety\"]中。\n",
    "df_train[\"Class\"] = df_train[\"variety\"].map(lable_map)\n",
    "\n",
    "lable_map\n",
    "df_train"
   ]
  },
  {
   "attachments": {},
   "cell_type": "markdown",
   "metadata": {},
   "source": [
    "### 三)檢查缺失值"
   ]
  },
  {
   "cell_type": "code",
   "execution_count": 48,
   "metadata": {},
   "outputs": [
    {
     "name": "stdout",
     "output_type": "stream",
     "text": [
      "checked missing data(NAN mount): 0\n"
     ]
    }
   ],
   "source": [
    "X = df_train.drop(labels=[\"variety\",\"Class\"],axis=1).values #移除 class,variety(因為字母不參與訓練)\n",
    "#checked missing data\n",
    "print(\"checked missing data(NAN mount):\",len(np.where(np.isnan(X))[0]))"
   ]
  },
  {
   "attachments": {},
   "cell_type": "markdown",
   "metadata": {},
   "source": [
    "### 四)切割訓練集與測試集"
   ]
  },
  {
   "cell_type": "code",
   "execution_count": 49,
   "metadata": {},
   "outputs": [],
   "source": [
    "from sklearn.model_selection import train_test_split\n",
    "X = df_train.drop(labels=[\"Class\",\"variety\"],axis=1)\n",
    "y = df_train[\"Class\"]\n",
    "X_train , X_test ,y_train , y_test = train_test_split(X,y , test_size = .3 , random_state=42)"
   ]
  },
  {
   "cell_type": "code",
   "execution_count": 50,
   "metadata": {},
   "outputs": [
    {
     "name": "stdout",
     "output_type": "stream",
     "text": [
      "Training data shape :  (105, 4)\n",
      "Testing data shape :  (45, 4)\n"
     ]
    }
   ],
   "source": [
    "print(\"Training data shape : \",X_train.shape)\n",
    "print(\"Testing data shape : \", X_test.shape)"
   ]
  },
  {
   "attachments": {},
   "cell_type": "markdown",
   "metadata": {},
   "source": [
    "### XGBoost\n",
    "Boosting 則是希望能夠由後面生成的樹，來修正前面樹，學得不好的地方\n",
    "\n",
    "Paremeter:\n",
    "1. n_estimators : 總共迭代的次數，即決策樹的個數，預設值為100\n",
    "2. max_depth : 樹的最大深度，默認值為6\n",
    "3. booster : gbtree 樹模型(預設) / gblinear 線性模型\n",
    "4. learning_rate : 學習速率 ， 預設0.3\n",
    "5. gamma : 懲罰項係數，指定節點分裂所需的最小損失函數下降值\n",
    "\n",
    "Attributes :\n",
    "1. feature_importances_ : 查詢模型特徵的重要程度\n",
    "\n",
    "Methods :\n",
    "1. fit : 放入X、y進行模型擬合\n",
    "2. predict : 預測並回傳預測類別\n",
    "3. score : 預測成功的比例\n",
    "4. predict_proba : 預測每個類別的機率值\n"
   ]
  },
  {
   "cell_type": "code",
   "execution_count": 51,
   "metadata": {},
   "outputs": [
    {
     "name": "stdout",
     "output_type": "stream",
     "text": [
      "[0]\tvalidation_0-mlogloss:0.75352\tvalidation_1-mlogloss:0.73218\n",
      "[1]\tvalidation_0-mlogloss:0.54945\tvalidation_1-mlogloss:0.51707\n",
      "[2]\tvalidation_0-mlogloss:0.41248\tvalidation_1-mlogloss:0.37704\n",
      "[3]\tvalidation_0-mlogloss:0.31732\tvalidation_1-mlogloss:0.28422\n",
      "[4]\tvalidation_0-mlogloss:0.24966\tvalidation_1-mlogloss:0.21843\n",
      "[5]\tvalidation_0-mlogloss:0.20055\tvalidation_1-mlogloss:0.17083\n",
      "[6]\tvalidation_0-mlogloss:0.16427\tvalidation_1-mlogloss:0.13462\n",
      "[7]\tvalidation_0-mlogloss:0.13548\tvalidation_1-mlogloss:0.10635\n",
      "[8]\tvalidation_0-mlogloss:0.11357\tvalidation_1-mlogloss:0.08659\n",
      "[9]\tvalidation_0-mlogloss:0.09650\tvalidation_1-mlogloss:0.07241\n",
      "[10]\tvalidation_0-mlogloss:0.08407\tvalidation_1-mlogloss:0.06024\n",
      "[11]\tvalidation_0-mlogloss:0.07477\tvalidation_1-mlogloss:0.05240\n",
      "[12]\tvalidation_0-mlogloss:0.06721\tvalidation_1-mlogloss:0.04491\n",
      "[13]\tvalidation_0-mlogloss:0.06091\tvalidation_1-mlogloss:0.03987\n",
      "[14]\tvalidation_0-mlogloss:0.05540\tvalidation_1-mlogloss:0.03657\n",
      "[15]\tvalidation_0-mlogloss:0.05104\tvalidation_1-mlogloss:0.03375\n",
      "[16]\tvalidation_0-mlogloss:0.04778\tvalidation_1-mlogloss:0.03091\n",
      "[17]\tvalidation_0-mlogloss:0.04526\tvalidation_1-mlogloss:0.02745\n",
      "[18]\tvalidation_0-mlogloss:0.04273\tvalidation_1-mlogloss:0.02508\n",
      "[19]\tvalidation_0-mlogloss:0.04107\tvalidation_1-mlogloss:0.02390\n",
      "[20]\tvalidation_0-mlogloss:0.03965\tvalidation_1-mlogloss:0.02283\n",
      "[21]\tvalidation_0-mlogloss:0.03830\tvalidation_1-mlogloss:0.02202\n",
      "[22]\tvalidation_0-mlogloss:0.03736\tvalidation_1-mlogloss:0.02162\n",
      "[23]\tvalidation_0-mlogloss:0.03659\tvalidation_1-mlogloss:0.02098\n",
      "[24]\tvalidation_0-mlogloss:0.03561\tvalidation_1-mlogloss:0.02108\n",
      "[25]\tvalidation_0-mlogloss:0.03506\tvalidation_1-mlogloss:0.02101\n",
      "[26]\tvalidation_0-mlogloss:0.03444\tvalidation_1-mlogloss:0.02099\n",
      "[27]\tvalidation_0-mlogloss:0.03360\tvalidation_1-mlogloss:0.02028\n",
      "[28]\tvalidation_0-mlogloss:0.03303\tvalidation_1-mlogloss:0.01976\n",
      "[29]\tvalidation_0-mlogloss:0.03249\tvalidation_1-mlogloss:0.01975\n",
      "[30]\tvalidation_0-mlogloss:0.03207\tvalidation_1-mlogloss:0.01910\n",
      "[31]\tvalidation_0-mlogloss:0.03159\tvalidation_1-mlogloss:0.01911\n",
      "[32]\tvalidation_0-mlogloss:0.03096\tvalidation_1-mlogloss:0.01827\n",
      "[33]\tvalidation_0-mlogloss:0.03060\tvalidation_1-mlogloss:0.01785\n",
      "[34]\tvalidation_0-mlogloss:0.03009\tvalidation_1-mlogloss:0.01762\n",
      "[35]\tvalidation_0-mlogloss:0.02976\tvalidation_1-mlogloss:0.01758\n",
      "[36]\tvalidation_0-mlogloss:0.02922\tvalidation_1-mlogloss:0.01733\n",
      "[37]\tvalidation_0-mlogloss:0.02893\tvalidation_1-mlogloss:0.01717\n",
      "[38]\tvalidation_0-mlogloss:0.02862\tvalidation_1-mlogloss:0.01668\n",
      "[39]\tvalidation_0-mlogloss:0.02834\tvalidation_1-mlogloss:0.01689\n",
      "[40]\tvalidation_0-mlogloss:0.02784\tvalidation_1-mlogloss:0.01622\n",
      "[41]\tvalidation_0-mlogloss:0.02757\tvalidation_1-mlogloss:0.01609\n",
      "[42]\tvalidation_0-mlogloss:0.02729\tvalidation_1-mlogloss:0.01566\n",
      "[43]\tvalidation_0-mlogloss:0.02703\tvalidation_1-mlogloss:0.01557\n"
     ]
    },
    {
     "name": "stderr",
     "output_type": "stream",
     "text": [
      "d:\\data_process_library_demo_log\\env\\lib\\site-packages\\xgboost\\sklearn.py:835: UserWarning: `early_stopping_rounds` in `fit` method is deprecated for better compatibility with scikit-learn, use `early_stopping_rounds` in constructor or`set_params` instead.\n",
      "  warnings.warn(\n"
     ]
    },
    {
     "name": "stdout",
     "output_type": "stream",
     "text": [
      "[44]\tvalidation_0-mlogloss:0.02679\tvalidation_1-mlogloss:0.01567\n",
      "[45]\tvalidation_0-mlogloss:0.02636\tvalidation_1-mlogloss:0.01510\n",
      "[46]\tvalidation_0-mlogloss:0.02612\tvalidation_1-mlogloss:0.01499\n",
      "[47]\tvalidation_0-mlogloss:0.02590\tvalidation_1-mlogloss:0.01500\n",
      "[48]\tvalidation_0-mlogloss:0.02565\tvalidation_1-mlogloss:0.01454\n",
      "[49]\tvalidation_0-mlogloss:0.02542\tvalidation_1-mlogloss:0.01412\n",
      "[50]\tvalidation_0-mlogloss:0.02523\tvalidation_1-mlogloss:0.01398\n",
      "[51]\tvalidation_0-mlogloss:0.02501\tvalidation_1-mlogloss:0.01363\n",
      "[52]\tvalidation_0-mlogloss:0.02483\tvalidation_1-mlogloss:0.01348\n",
      "[53]\tvalidation_0-mlogloss:0.02466\tvalidation_1-mlogloss:0.01325\n",
      "[54]\tvalidation_0-mlogloss:0.02450\tvalidation_1-mlogloss:0.01313\n",
      "[55]\tvalidation_0-mlogloss:0.02431\tvalidation_1-mlogloss:0.01283\n",
      "[56]\tvalidation_0-mlogloss:0.02415\tvalidation_1-mlogloss:0.01271\n",
      "[57]\tvalidation_0-mlogloss:0.02397\tvalidation_1-mlogloss:0.01279\n",
      "[58]\tvalidation_0-mlogloss:0.02379\tvalidation_1-mlogloss:0.01264\n",
      "[59]\tvalidation_0-mlogloss:0.02366\tvalidation_1-mlogloss:0.01262\n",
      "[60]\tvalidation_0-mlogloss:0.02353\tvalidation_1-mlogloss:0.01245\n",
      "[61]\tvalidation_0-mlogloss:0.02339\tvalidation_1-mlogloss:0.01235\n",
      "[62]\tvalidation_0-mlogloss:0.02326\tvalidation_1-mlogloss:0.01212\n",
      "[63]\tvalidation_0-mlogloss:0.02316\tvalidation_1-mlogloss:0.01206\n",
      "[64]\tvalidation_0-mlogloss:0.02304\tvalidation_1-mlogloss:0.01204\n",
      "[65]\tvalidation_0-mlogloss:0.02292\tvalidation_1-mlogloss:0.01189\n",
      "[66]\tvalidation_0-mlogloss:0.02280\tvalidation_1-mlogloss:0.01167\n",
      "[67]\tvalidation_0-mlogloss:0.02268\tvalidation_1-mlogloss:0.01159\n",
      "[68]\tvalidation_0-mlogloss:0.02256\tvalidation_1-mlogloss:0.01144\n",
      "[69]\tvalidation_0-mlogloss:0.02247\tvalidation_1-mlogloss:0.01138\n",
      "[70]\tvalidation_0-mlogloss:0.02236\tvalidation_1-mlogloss:0.01148\n",
      "[71]\tvalidation_0-mlogloss:0.02227\tvalidation_1-mlogloss:0.01131\n",
      "[72]\tvalidation_0-mlogloss:0.02217\tvalidation_1-mlogloss:0.01136\n",
      "[73]\tvalidation_0-mlogloss:0.02208\tvalidation_1-mlogloss:0.01130\n",
      "[74]\tvalidation_0-mlogloss:0.02199\tvalidation_1-mlogloss:0.01114\n",
      "[75]\tvalidation_0-mlogloss:0.02190\tvalidation_1-mlogloss:0.01115\n",
      "[76]\tvalidation_0-mlogloss:0.02182\tvalidation_1-mlogloss:0.01108\n",
      "[77]\tvalidation_0-mlogloss:0.02174\tvalidation_1-mlogloss:0.01111\n",
      "[78]\tvalidation_0-mlogloss:0.02166\tvalidation_1-mlogloss:0.01092\n",
      "[79]\tvalidation_0-mlogloss:0.02158\tvalidation_1-mlogloss:0.01100\n",
      "[80]\tvalidation_0-mlogloss:0.02150\tvalidation_1-mlogloss:0.01083\n",
      "[81]\tvalidation_0-mlogloss:0.02142\tvalidation_1-mlogloss:0.01080\n",
      "[82]\tvalidation_0-mlogloss:0.02135\tvalidation_1-mlogloss:0.01074\n",
      "[83]\tvalidation_0-mlogloss:0.02128\tvalidation_1-mlogloss:0.01077\n",
      "[84]\tvalidation_0-mlogloss:0.02121\tvalidation_1-mlogloss:0.01061\n",
      "[85]\tvalidation_0-mlogloss:0.02114\tvalidation_1-mlogloss:0.01058\n",
      "[86]\tvalidation_0-mlogloss:0.02108\tvalidation_1-mlogloss:0.01043\n",
      "[87]\tvalidation_0-mlogloss:0.02101\tvalidation_1-mlogloss:0.01049\n",
      "[88]\tvalidation_0-mlogloss:0.02095\tvalidation_1-mlogloss:0.01044\n",
      "[89]\tvalidation_0-mlogloss:0.02089\tvalidation_1-mlogloss:0.01034\n",
      "[90]\tvalidation_0-mlogloss:0.02083\tvalidation_1-mlogloss:0.01040\n",
      "[91]\tvalidation_0-mlogloss:0.02077\tvalidation_1-mlogloss:0.01025\n",
      "[92]\tvalidation_0-mlogloss:0.02071\tvalidation_1-mlogloss:0.01021\n",
      "[93]\tvalidation_0-mlogloss:0.02065\tvalidation_1-mlogloss:0.01027\n",
      "[94]\tvalidation_0-mlogloss:0.02059\tvalidation_1-mlogloss:0.01014\n",
      "[95]\tvalidation_0-mlogloss:0.02054\tvalidation_1-mlogloss:0.01020\n",
      "[96]\tvalidation_0-mlogloss:0.02048\tvalidation_1-mlogloss:0.01016\n",
      "[97]\tvalidation_0-mlogloss:0.02043\tvalidation_1-mlogloss:0.01007\n",
      "[98]\tvalidation_0-mlogloss:0.02038\tvalidation_1-mlogloss:0.01008\n",
      "[99]\tvalidation_0-mlogloss:0.02034\tvalidation_1-mlogloss:0.00996\n"
     ]
    },
    {
     "data": {
      "text/html": [
       "<style>#sk-container-id-3 {color: black;background-color: white;}#sk-container-id-3 pre{padding: 0;}#sk-container-id-3 div.sk-toggleable {background-color: white;}#sk-container-id-3 label.sk-toggleable__label {cursor: pointer;display: block;width: 100%;margin-bottom: 0;padding: 0.3em;box-sizing: border-box;text-align: center;}#sk-container-id-3 label.sk-toggleable__label-arrow:before {content: \"▸\";float: left;margin-right: 0.25em;color: #696969;}#sk-container-id-3 label.sk-toggleable__label-arrow:hover:before {color: black;}#sk-container-id-3 div.sk-estimator:hover label.sk-toggleable__label-arrow:before {color: black;}#sk-container-id-3 div.sk-toggleable__content {max-height: 0;max-width: 0;overflow: hidden;text-align: left;background-color: #f0f8ff;}#sk-container-id-3 div.sk-toggleable__content pre {margin: 0.2em;color: black;border-radius: 0.25em;background-color: #f0f8ff;}#sk-container-id-3 input.sk-toggleable__control:checked~div.sk-toggleable__content {max-height: 200px;max-width: 100%;overflow: auto;}#sk-container-id-3 input.sk-toggleable__control:checked~label.sk-toggleable__label-arrow:before {content: \"▾\";}#sk-container-id-3 div.sk-estimator input.sk-toggleable__control:checked~label.sk-toggleable__label {background-color: #d4ebff;}#sk-container-id-3 div.sk-label input.sk-toggleable__control:checked~label.sk-toggleable__label {background-color: #d4ebff;}#sk-container-id-3 input.sk-hidden--visually {border: 0;clip: rect(1px 1px 1px 1px);clip: rect(1px, 1px, 1px, 1px);height: 1px;margin: -1px;overflow: hidden;padding: 0;position: absolute;width: 1px;}#sk-container-id-3 div.sk-estimator {font-family: monospace;background-color: #f0f8ff;border: 1px dotted black;border-radius: 0.25em;box-sizing: border-box;margin-bottom: 0.5em;}#sk-container-id-3 div.sk-estimator:hover {background-color: #d4ebff;}#sk-container-id-3 div.sk-parallel-item::after {content: \"\";width: 100%;border-bottom: 1px solid gray;flex-grow: 1;}#sk-container-id-3 div.sk-label:hover label.sk-toggleable__label {background-color: #d4ebff;}#sk-container-id-3 div.sk-serial::before {content: \"\";position: absolute;border-left: 1px solid gray;box-sizing: border-box;top: 0;bottom: 0;left: 50%;z-index: 0;}#sk-container-id-3 div.sk-serial {display: flex;flex-direction: column;align-items: center;background-color: white;padding-right: 0.2em;padding-left: 0.2em;position: relative;}#sk-container-id-3 div.sk-item {position: relative;z-index: 1;}#sk-container-id-3 div.sk-parallel {display: flex;align-items: stretch;justify-content: center;background-color: white;position: relative;}#sk-container-id-3 div.sk-item::before, #sk-container-id-3 div.sk-parallel-item::before {content: \"\";position: absolute;border-left: 1px solid gray;box-sizing: border-box;top: 0;bottom: 0;left: 50%;z-index: -1;}#sk-container-id-3 div.sk-parallel-item {display: flex;flex-direction: column;z-index: 1;position: relative;background-color: white;}#sk-container-id-3 div.sk-parallel-item:first-child::after {align-self: flex-end;width: 50%;}#sk-container-id-3 div.sk-parallel-item:last-child::after {align-self: flex-start;width: 50%;}#sk-container-id-3 div.sk-parallel-item:only-child::after {width: 0;}#sk-container-id-3 div.sk-dashed-wrapped {border: 1px dashed gray;margin: 0 0.4em 0.5em 0.4em;box-sizing: border-box;padding-bottom: 0.4em;background-color: white;}#sk-container-id-3 div.sk-label label {font-family: monospace;font-weight: bold;display: inline-block;line-height: 1.2em;}#sk-container-id-3 div.sk-label-container {text-align: center;}#sk-container-id-3 div.sk-container {/* jupyter's `normalize.less` sets `[hidden] { display: none; }` but bootstrap.min.css set `[hidden] { display: none !important; }` so we also need the `!important` here to be able to override the default hidden behavior on the sphinx rendered scikit-learn.org. See: https://github.com/scikit-learn/scikit-learn/issues/21755 */display: inline-block !important;position: relative;}#sk-container-id-3 div.sk-text-repr-fallback {display: none;}</style><div id=\"sk-container-id-3\" class=\"sk-top-container\"><div class=\"sk-text-repr-fallback\"><pre>XGBClassifier(base_score=None, booster=None, callbacks=None,\n",
       "              colsample_bylevel=None, colsample_bynode=None,\n",
       "              colsample_bytree=None, early_stopping_rounds=None,\n",
       "              enable_categorical=False, eval_metric=None, feature_types=None,\n",
       "              gamma=None, gpu_id=None, grow_policy=None, importance_type=None,\n",
       "              interaction_constraints=None, learning_rate=0.3, max_bin=None,\n",
       "              max_cat_threshold=None, max_cat_to_onehot=None,\n",
       "              max_delta_step=None, max_depth=None, max_leaves=None,\n",
       "              min_child_weight=None, missing=nan, monotone_constraints=None,\n",
       "              n_estimators=100, n_jobs=None, num_parallel_tree=None,\n",
       "              objective=&#x27;multi:softprob&#x27;, predictor=None, ...)</pre><b>In a Jupyter environment, please rerun this cell to show the HTML representation or trust the notebook. <br />On GitHub, the HTML representation is unable to render, please try loading this page with nbviewer.org.</b></div><div class=\"sk-container\" hidden><div class=\"sk-item\"><div class=\"sk-estimator sk-toggleable\"><input class=\"sk-toggleable__control sk-hidden--visually\" id=\"sk-estimator-id-3\" type=\"checkbox\" checked><label for=\"sk-estimator-id-3\" class=\"sk-toggleable__label sk-toggleable__label-arrow\">XGBClassifier</label><div class=\"sk-toggleable__content\"><pre>XGBClassifier(base_score=None, booster=None, callbacks=None,\n",
       "              colsample_bylevel=None, colsample_bynode=None,\n",
       "              colsample_bytree=None, early_stopping_rounds=None,\n",
       "              enable_categorical=False, eval_metric=None, feature_types=None,\n",
       "              gamma=None, gpu_id=None, grow_policy=None, importance_type=None,\n",
       "              interaction_constraints=None, learning_rate=0.3, max_bin=None,\n",
       "              max_cat_threshold=None, max_cat_to_onehot=None,\n",
       "              max_delta_step=None, max_depth=None, max_leaves=None,\n",
       "              min_child_weight=None, missing=nan, monotone_constraints=None,\n",
       "              n_estimators=100, n_jobs=None, num_parallel_tree=None,\n",
       "              objective=&#x27;multi:softprob&#x27;, predictor=None, ...)</pre></div></div></div></div></div>"
      ],
      "text/plain": [
       "XGBClassifier(base_score=None, booster=None, callbacks=None,\n",
       "              colsample_bylevel=None, colsample_bynode=None,\n",
       "              colsample_bytree=None, early_stopping_rounds=None,\n",
       "              enable_categorical=False, eval_metric=None, feature_types=None,\n",
       "              gamma=None, gpu_id=None, grow_policy=None, importance_type=None,\n",
       "              interaction_constraints=None, learning_rate=0.3, max_bin=None,\n",
       "              max_cat_threshold=None, max_cat_to_onehot=None,\n",
       "              max_delta_step=None, max_depth=None, max_leaves=None,\n",
       "              min_child_weight=None, missing=nan, monotone_constraints=None,\n",
       "              n_estimators=100, n_jobs=None, num_parallel_tree=None,\n",
       "              objective='multi:softprob', predictor=None, ...)"
      ]
     },
     "execution_count": 51,
     "metadata": {},
     "output_type": "execute_result"
    }
   ],
   "source": [
    "import xgboost as xgb\n",
    "#from xgboost import XGBRFClassifier\n",
    "\n",
    "# #建立XGBClassifier 模型\n",
    "# xgboostModel = XGBRFClassifier(learning_rate=0.3)\n",
    "\n",
    "# #使用訓練資料訓練模型\n",
    "# xgboostModel.fit(X_train,y_train)\n",
    "\n",
    "# #使用訓練資料預測分類\n",
    "# predicted = xgboostModel.predict(X_train)\n",
    "\n",
    "# training\n",
    "model = xgb.XGBClassifier(n_estimators=100, learning_rate= 0.3)\n",
    "model.fit(X_train, y_train,\n",
    "eval_set=[(X_train, y_train), (X_test, y_test)],\n",
    "early_stopping_rounds=20)"
   ]
  },
  {
   "cell_type": "code",
   "execution_count": 52,
   "metadata": {},
   "outputs": [
    {
     "data": {
      "text/plain": [
       "array([1, 0, 2, 1, 1, 0, 1, 2, 1, 1, 2, 0, 0, 0, 0, 1, 2, 1, 1, 2, 0, 2,\n",
       "       0, 2, 2, 2, 2, 2, 0, 0, 0, 0, 1, 0, 0, 2, 1, 0, 0, 0, 2, 1, 1, 0,\n",
       "       0], dtype=int64)"
      ]
     },
     "execution_count": 52,
     "metadata": {},
     "output_type": "execute_result"
    }
   ],
   "source": [
    "model.predict(X_test)"
   ]
  },
  {
   "cell_type": "code",
   "execution_count": 53,
   "metadata": {},
   "outputs": [],
   "source": [
    "# save in JSON format\n",
    "model.save_model(\"model_sklearn.json\")"
   ]
  },
  {
   "attachments": {},
   "cell_type": "markdown",
   "metadata": {},
   "source": [
    "### 使用Score評估模型"
   ]
  },
  {
   "cell_type": "code",
   "execution_count": 54,
   "metadata": {},
   "outputs": [
    {
     "ename": "ValueError",
     "evalue": "Feature shape mismatch, expected: 5, got 4",
     "output_type": "error",
     "traceback": [
      "\u001b[1;31m---------------------------------------------------------------------------\u001b[0m",
      "\u001b[1;31mValueError\u001b[0m                                Traceback (most recent call last)",
      "Cell \u001b[1;32mIn[54], line 2\u001b[0m\n\u001b[0;32m      1\u001b[0m \u001b[39m#預測成功的比例\u001b[39;00m\n\u001b[1;32m----> 2\u001b[0m \u001b[39mprint\u001b[39m(\u001b[39m\"\u001b[39m\u001b[39m訓練集: \u001b[39m\u001b[39m\"\u001b[39m,xgboostModel\u001b[39m.\u001b[39;49mscore(X_train,y_train))\n\u001b[0;32m      4\u001b[0m \u001b[39mprint\u001b[39m(\u001b[39m\"\u001b[39m\u001b[39m測試集: \u001b[39m\u001b[39m\"\u001b[39m,xgboostModel\u001b[39m.\u001b[39mscore(X_test,y_test))\n",
      "File \u001b[1;32md:\\data_process_library_demo_log\\env\\lib\\site-packages\\sklearn\\base.py:649\u001b[0m, in \u001b[0;36mClassifierMixin.score\u001b[1;34m(self, X, y, sample_weight)\u001b[0m\n\u001b[0;32m    624\u001b[0m \u001b[39m\u001b[39m\u001b[39m\"\"\"\u001b[39;00m\n\u001b[0;32m    625\u001b[0m \u001b[39mReturn the mean accuracy on the given test data and labels.\u001b[39;00m\n\u001b[0;32m    626\u001b[0m \n\u001b[1;32m   (...)\u001b[0m\n\u001b[0;32m    645\u001b[0m \u001b[39m    Mean accuracy of ``self.predict(X)`` wrt. `y`.\u001b[39;00m\n\u001b[0;32m    646\u001b[0m \u001b[39m\"\"\"\u001b[39;00m\n\u001b[0;32m    647\u001b[0m \u001b[39mfrom\u001b[39;00m \u001b[39m.\u001b[39;00m\u001b[39mmetrics\u001b[39;00m \u001b[39mimport\u001b[39;00m accuracy_score\n\u001b[1;32m--> 649\u001b[0m \u001b[39mreturn\u001b[39;00m accuracy_score(y, \u001b[39mself\u001b[39;49m\u001b[39m.\u001b[39;49mpredict(X), sample_weight\u001b[39m=\u001b[39msample_weight)\n",
      "File \u001b[1;32md:\\data_process_library_demo_log\\env\\lib\\site-packages\\xgboost\\sklearn.py:1525\u001b[0m, in \u001b[0;36mXGBClassifier.predict\u001b[1;34m(self, X, output_margin, ntree_limit, validate_features, base_margin, iteration_range)\u001b[0m\n\u001b[0;32m   1515\u001b[0m \u001b[39mdef\u001b[39;00m \u001b[39mpredict\u001b[39m(\n\u001b[0;32m   1516\u001b[0m     \u001b[39mself\u001b[39m,\n\u001b[0;32m   1517\u001b[0m     X: ArrayLike,\n\u001b[1;32m   (...)\u001b[0m\n\u001b[0;32m   1522\u001b[0m     iteration_range: Optional[Tuple[\u001b[39mint\u001b[39m, \u001b[39mint\u001b[39m]] \u001b[39m=\u001b[39m \u001b[39mNone\u001b[39;00m,\n\u001b[0;32m   1523\u001b[0m ) \u001b[39m-\u001b[39m\u001b[39m>\u001b[39m np\u001b[39m.\u001b[39mndarray:\n\u001b[0;32m   1524\u001b[0m     \u001b[39mwith\u001b[39;00m config_context(verbosity\u001b[39m=\u001b[39m\u001b[39mself\u001b[39m\u001b[39m.\u001b[39mverbosity):\n\u001b[1;32m-> 1525\u001b[0m         class_probs \u001b[39m=\u001b[39m \u001b[39msuper\u001b[39;49m()\u001b[39m.\u001b[39;49mpredict(\n\u001b[0;32m   1526\u001b[0m             X\u001b[39m=\u001b[39;49mX,\n\u001b[0;32m   1527\u001b[0m             output_margin\u001b[39m=\u001b[39;49moutput_margin,\n\u001b[0;32m   1528\u001b[0m             ntree_limit\u001b[39m=\u001b[39;49mntree_limit,\n\u001b[0;32m   1529\u001b[0m             validate_features\u001b[39m=\u001b[39;49mvalidate_features,\n\u001b[0;32m   1530\u001b[0m             base_margin\u001b[39m=\u001b[39;49mbase_margin,\n\u001b[0;32m   1531\u001b[0m             iteration_range\u001b[39m=\u001b[39;49miteration_range,\n\u001b[0;32m   1532\u001b[0m         )\n\u001b[0;32m   1533\u001b[0m         \u001b[39mif\u001b[39;00m output_margin:\n\u001b[0;32m   1534\u001b[0m             \u001b[39m# If output_margin is active, simply return the scores\u001b[39;00m\n\u001b[0;32m   1535\u001b[0m             \u001b[39mreturn\u001b[39;00m class_probs\n",
      "File \u001b[1;32md:\\data_process_library_demo_log\\env\\lib\\site-packages\\xgboost\\sklearn.py:1114\u001b[0m, in \u001b[0;36mXGBModel.predict\u001b[1;34m(self, X, output_margin, ntree_limit, validate_features, base_margin, iteration_range)\u001b[0m\n\u001b[0;32m   1112\u001b[0m \u001b[39mif\u001b[39;00m \u001b[39mself\u001b[39m\u001b[39m.\u001b[39m_can_use_inplace_predict():\n\u001b[0;32m   1113\u001b[0m     \u001b[39mtry\u001b[39;00m:\n\u001b[1;32m-> 1114\u001b[0m         predts \u001b[39m=\u001b[39m \u001b[39mself\u001b[39;49m\u001b[39m.\u001b[39;49mget_booster()\u001b[39m.\u001b[39;49minplace_predict(\n\u001b[0;32m   1115\u001b[0m             data\u001b[39m=\u001b[39;49mX,\n\u001b[0;32m   1116\u001b[0m             iteration_range\u001b[39m=\u001b[39;49miteration_range,\n\u001b[0;32m   1117\u001b[0m             predict_type\u001b[39m=\u001b[39;49m\u001b[39m\"\u001b[39;49m\u001b[39mmargin\u001b[39;49m\u001b[39m\"\u001b[39;49m \u001b[39mif\u001b[39;49;00m output_margin \u001b[39melse\u001b[39;49;00m \u001b[39m\"\u001b[39;49m\u001b[39mvalue\u001b[39;49m\u001b[39m\"\u001b[39;49m,\n\u001b[0;32m   1118\u001b[0m             missing\u001b[39m=\u001b[39;49m\u001b[39mself\u001b[39;49m\u001b[39m.\u001b[39;49mmissing,\n\u001b[0;32m   1119\u001b[0m             base_margin\u001b[39m=\u001b[39;49mbase_margin,\n\u001b[0;32m   1120\u001b[0m             validate_features\u001b[39m=\u001b[39;49mvalidate_features,\n\u001b[0;32m   1121\u001b[0m         )\n\u001b[0;32m   1122\u001b[0m         \u001b[39mif\u001b[39;00m _is_cupy_array(predts):\n\u001b[0;32m   1123\u001b[0m             \u001b[39mimport\u001b[39;00m \u001b[39mcupy\u001b[39;00m  \u001b[39m# pylint: disable=import-error\u001b[39;00m\n",
      "File \u001b[1;32md:\\data_process_library_demo_log\\env\\lib\\site-packages\\xgboost\\core.py:2268\u001b[0m, in \u001b[0;36mBooster.inplace_predict\u001b[1;34m(self, data, iteration_range, predict_type, missing, validate_features, base_margin, strict_shape)\u001b[0m\n\u001b[0;32m   2264\u001b[0m         \u001b[39mraise\u001b[39;00m \u001b[39mTypeError\u001b[39;00m(\n\u001b[0;32m   2265\u001b[0m             \u001b[39m\"\u001b[39m\u001b[39m`shape` attribute is required when `validate_features` is True.\u001b[39m\u001b[39m\"\u001b[39m\n\u001b[0;32m   2266\u001b[0m         )\n\u001b[0;32m   2267\u001b[0m     \u001b[39mif\u001b[39;00m \u001b[39mlen\u001b[39m(data\u001b[39m.\u001b[39mshape) \u001b[39m!=\u001b[39m \u001b[39m1\u001b[39m \u001b[39mand\u001b[39;00m \u001b[39mself\u001b[39m\u001b[39m.\u001b[39mnum_features() \u001b[39m!=\u001b[39m data\u001b[39m.\u001b[39mshape[\u001b[39m1\u001b[39m]:\n\u001b[1;32m-> 2268\u001b[0m         \u001b[39mraise\u001b[39;00m \u001b[39mValueError\u001b[39;00m(\n\u001b[0;32m   2269\u001b[0m             \u001b[39mf\u001b[39m\u001b[39m\"\u001b[39m\u001b[39mFeature shape mismatch, expected: \u001b[39m\u001b[39m{\u001b[39;00m\u001b[39mself\u001b[39m\u001b[39m.\u001b[39mnum_features()\u001b[39m}\u001b[39;00m\u001b[39m, \u001b[39m\u001b[39m\"\u001b[39m\n\u001b[0;32m   2270\u001b[0m             \u001b[39mf\u001b[39m\u001b[39m\"\u001b[39m\u001b[39mgot \u001b[39m\u001b[39m{\u001b[39;00mdata\u001b[39m.\u001b[39mshape[\u001b[39m1\u001b[39m]\u001b[39m}\u001b[39;00m\u001b[39m\"\u001b[39m\n\u001b[0;32m   2271\u001b[0m         )\n\u001b[0;32m   2273\u001b[0m \u001b[39mfrom\u001b[39;00m \u001b[39m.\u001b[39;00m\u001b[39mdata\u001b[39;00m \u001b[39mimport\u001b[39;00m (\n\u001b[0;32m   2274\u001b[0m     _array_interface,\n\u001b[0;32m   2275\u001b[0m     _is_cudf_df,\n\u001b[1;32m   (...)\u001b[0m\n\u001b[0;32m   2278\u001b[0m     _transform_pandas_df,\n\u001b[0;32m   2279\u001b[0m )\n\u001b[0;32m   2281\u001b[0m enable_categorical \u001b[39m=\u001b[39m _has_categorical(\u001b[39mself\u001b[39m, data)\n",
      "\u001b[1;31mValueError\u001b[0m: Feature shape mismatch, expected: 5, got 4"
     ]
    }
   ],
   "source": [
    "#預測成功的比例\n",
    "print(\"訓練集: \",xgboostModel.score(X_train,y_train))\n",
    "\n",
    "print(\"測試集: \",xgboostModel.score(X_test,y_test))"
   ]
  },
  {
   "attachments": {},
   "cell_type": "markdown",
   "metadata": {},
   "source": [
    "### 特徵重要程度"
   ]
  },
  {
   "cell_type": "code",
   "execution_count": null,
   "metadata": {},
   "outputs": [
    {
     "name": "stdout",
     "output_type": "stream",
     "text": [
      "特徵重要程度:  [0.03390711 0.11363838 0.44287875 0.4095758 ]\n"
     ]
    },
    {
     "data": {
      "image/png": "[encoded data removed]",
      "text/plain": [
       "<Figure size 640x480 with 1 Axes>"
      ]
     },
     "metadata": {},
     "output_type": "display_data"
    }
   ],
   "source": [
    "from xgboost import plot_importance\n",
    "from xgboost import plot_tree\n",
    "\n",
    "plot_importance(xgboostModel)\n",
    "\n",
    "print(\"特徵重要程度: \" , xgboostModel.feature_importances_)"
   ]
  },
  {
   "attachments": {},
   "cell_type": "markdown",
   "metadata": {},
   "source": [
    "### 真實分類"
   ]
  },
  {
   "cell_type": "code",
   "execution_count": null,
   "metadata": {},
   "outputs": [],
   "source": [
    "# 建立訓練集的DataFrame\n",
    "df_train = pd.DataFrame(X_train)\n",
    "df_train[\"Class\"] = y_train\n",
    "\n",
    "#建立測試集的DataFrame\n",
    "\n",
    "df_test = pd.DataFrame(X_test)\n",
    "df_test[\"Class\"] = y_test"
   ]
  },
  {
   "cell_type": "code",
   "execution_count": null,
   "metadata": {},
   "outputs": [
    {
     "ename": "TypeError",
     "evalue": "lmplot() got multiple values for argument 'data'",
     "output_type": "error",
     "traceback": [
      "\u001b[1;31m---------------------------------------------------------------------------\u001b[0m",
      "\u001b[1;31mTypeError\u001b[0m                                 Traceback (most recent call last)",
      "Cell \u001b[1;32mIn[11], line 1\u001b[0m\n\u001b[1;32m----> 1\u001b[0m sns\u001b[39m.\u001b[39;49mlmplot(\u001b[39m\"\u001b[39;49m\u001b[39mpetal.length\u001b[39;49m\u001b[39m\"\u001b[39;49m,\u001b[39m\"\u001b[39;49m\u001b[39mpetal.width\u001b[39;49m\u001b[39m\"\u001b[39;49m,hue\u001b[39m=\u001b[39;49m\u001b[39m\"\u001b[39;49m\u001b[39mClass\u001b[39;49m\u001b[39m\"\u001b[39;49m,data\u001b[39m=\u001b[39;49mdf_train,fit_reg\u001b[39m=\u001b[39;49m\u001b[39mFalse\u001b[39;49;00m)\n",
      "\u001b[1;31mTypeError\u001b[0m: lmplot() got multiple values for argument 'data'"
     ]
    }
   ],
   "source": [
    "sns.lmplot(\"petal.length\",\"petal.width\",hue=\"Class\",data=df_train,fit_reg=False)"
   ]
  },
  {
   "attachments": {},
   "cell_type": "markdown",
   "metadata": {},
   "source": [
    "### XGBooost(訓練集)預測結果"
   ]
  },
  {
   "cell_type": "code",
   "execution_count": null,
   "metadata": {},
   "outputs": [
    {
     "name": "stderr",
     "output_type": "stream",
     "text": [
      "d:\\Anaconda\\lib\\site-packages\\seaborn\\_decorators.py:36: FutureWarning: Pass the following variables as keyword args: x, y. From version 0.12, the only valid positional argument will be `data`, and passing other arguments without an explicit keyword will result in an error or misinterpretation.\n",
      "  warnings.warn(\n"
     ]
    },
    {
     "data": {
      "image/png": "[encoded data removed]",
      "text/plain": [
       "<Figure size 402.5x360 with 1 Axes>"
      ]
     },
     "metadata": {
      "needs_background": "light"
     },
     "output_type": "display_data"
    }
   ],
   "source": [
    "df_train[\"Predict\"] = predicted\n",
    "sns.lmplot('petal.length',\"petal.width\",data=df_train,hue=\"Predict\",fit_reg=False)\n",
    "\n",
    "plt.show()"
   ]
  }
 ],
 "metadata": {
  "kernelspec": {
   "display_name": "env",
   "language": "python",
   "name": "python3"
  },
  "language_info": {
   "codemirror_mode": {
    "name": "ipython",
    "version": 3
   },
   "file_extension": ".py",
   "mimetype": "text/x-python",
   "name": "python",
   "nbconvert_exporter": "python",
   "pygments_lexer": "ipython3",
   "version": "3.9.13"
  },
  "orig_nbformat": 4,
  "vscode": {
   "interpreter": {
    "hash": "4d8f8f06aeace86465c4ac3ec675eb8f9a9c033fa019aea5d2555af33b1b9ed1"
   }
  }
 },
 "nbformat": 4,
 "nbformat_minor": 2
}
