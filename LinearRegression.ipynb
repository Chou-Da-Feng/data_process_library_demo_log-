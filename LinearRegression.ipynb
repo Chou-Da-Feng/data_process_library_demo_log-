{
 "cells": [
  {
   "attachments": {},
   "cell_type": "markdown",
   "metadata": {},
   "source": [
    "### Example 1 (簡單線性回歸)\n",
    "簡單線性回歸舉例， $$ y=ax+b $$ ，a稱為斜率 ， b稱為截距"
   ]
  },
  {
   "cell_type": "code",
   "execution_count": 2,
   "metadata": {},
   "outputs": [
    {
     "data": {
      "image/png": "[encoded data removed]",
      "text/plain": [
       "<Figure size 432x288 with 1 Axes>"
      ]
     },
     "metadata": {
      "needs_background": "light"
     },
     "output_type": "display_data"
    }
   ],
   "source": [
    "#import \n",
    "import numpy as np\n",
    "import matplotlib.pyplot as plt\n",
    "\n",
    "#產生亂數資料\n",
    "np.random.seed(0)\n",
    "noise = np.random.rand(100,1)  #0~1之間 隨機取100個\n",
    "x = np.random.rand(100,1)\n",
    "y = 3 * x + 15 +noise          # y=ax+b Target function a=3,b=15 \n",
    "\n",
    "\n",
    "#plot\n",
    "plt.scatter(x,y,s=10)\n",
    "plt.xlabel(\"x\")\n",
    "plt.ylabel(\"y\")\n",
    "plt.show()"
   ]
  },
  {
   "attachments": {},
   "cell_type": "markdown",
   "metadata": {},
   "source": [
    "### Linear Regression\n",
    "線性回歸簡單來說，就是將複雜的資料數據，擬和至一條直線上，就能方便預測未來的資料。\n",
    "\n",
    "Parameters:\n",
    "1. fit_intercept : 是否有截距，如果沒有則直線過原點\n",
    "\n",
    "Attributes:\n",
    "1. coef_ : 取得斜率\n",
    "2. intercept_ : 取得截距\n",
    "\n",
    "Methods:\n",
    "1. fit : 放入X 、y 進行模型擬合\n",
    "2. predict : 預測並回傳預測類別\n",
    "3. score : R2 score 模型評估"
   ]
  },
  {
   "cell_type": "code",
   "execution_count": 3,
   "metadata": {},
   "outputs": [],
   "source": [
    "from sklearn.linear_model import LinearRegression\n",
    "\n",
    "#建立LinearRegression 模型\n",
    "linearMmodel = LinearRegression(fit_intercept=True)\n",
    "#使用訓練資料訓練模型\n",
    "linearMmodel.fit(x,y)\n",
    "#使用訓練資料預測\n",
    "predicted = linearMmodel.predict(x)"
   ]
  },
  {
   "attachments": {},
   "cell_type": "markdown",
   "metadata": {},
   "source": [
    "### 模型評估\n",
    "scikit-learn 決策樹迴歸模型的score函式是 R2 score, 可做為模型評估依據，其數值越接近於1代表模型越佳。除了R2 score還有其他許多回歸模型的評估方法，例如: MSE、MAE、RMSE"
   ]
  },
  {
   "cell_type": "code",
   "execution_count": 4,
   "metadata": {},
   "outputs": [
    {
     "name": "stdout",
     "output_type": "stream",
     "text": [
      "R2 score:  0.888257994980688\n",
      "MSE score:  0.24957075161596495\n"
     ]
    }
   ],
   "source": [
    "from sklearn import metrics\n",
    "print(\"R2 score: \" , linearMmodel.score(x,y))\n",
    "\n",
    "mse = metrics.mean_absolute_error(y,predicted)\n",
    "print(\"MSE score: \",mse)"
   ]
  },
  {
   "cell_type": "code",
   "execution_count": 5,
   "metadata": {},
   "outputs": [
    {
     "data": {
      "image/png": "[encoded data removed]",
      "text/plain": [
       "<Figure size 432x288 with 1 Axes>"
      ]
     },
     "metadata": {
      "needs_background": "light"
     },
     "output_type": "display_data"
    }
   ],
   "source": [
    "plt.scatter(x,y,s=10,label=\"True\")\n",
    "plt.scatter(x,predicted,color=\"r\",s=10,label=\"Predicted\")\n",
    "plt.xlabel(\"x\")\n",
    "plt.ylabel(\"y\")\n",
    "plt.legend()\n",
    "plt.show()"
   ]
  },
  {
   "cell_type": "code",
   "execution_count": 6,
   "metadata": {},
   "outputs": [
    {
     "name": "stdout",
     "output_type": "stream",
     "text": [
      "斜率a =  2.9311233545408943\n",
      "截距b =  15.509166339414461\n"
     ]
    }
   ],
   "source": [
    "#模型的斜率及截距，分別儲存在linearMmodel.coef_[0] 和 linearMmodel.intercept_中\n",
    "coef = linearMmodel.coef_\n",
    "intercept = linearMmodel.intercept_\n",
    "\n",
    "print(\"斜率a = \",coef[0][0])\n",
    "print(\"截距b = \",intercept[0])"
   ]
  },
  {
   "attachments": {},
   "cell_type": "markdown",
   "metadata": {},
   "source": [
    "### Example 2 (多線性回歸)\n",
    "多維回歸的線性模型，$$ y=a0+a1x1+a2x2+a3x3+a4x4.... $$\n",
    "可以在y上建立多維的陣列"
   ]
  },
  {
   "cell_type": "code",
   "execution_count": 7,
   "metadata": {},
   "outputs": [],
   "source": [
    "rng = np.random.RandomState(1)\n",
    "X = 10 * rng.rand(100,3)  #三個X 一樣取100個點\n",
    "y = 0.5 + np.dot( X , [ 1.5 , -1. , 2. ] )"
   ]
  },
  {
   "cell_type": "code",
   "execution_count": 9,
   "metadata": {},
   "outputs": [],
   "source": [
    "linearMmodel.fit(X,y)\n",
    "pred = linearMmodel.predict(X)"
   ]
  },
  {
   "cell_type": "code",
   "execution_count": 10,
   "metadata": {},
   "outputs": [
    {
     "name": "stdout",
     "output_type": "stream",
     "text": [
      "0.5000000000000053\n",
      "[ 1.5 -1.   2. ]\n"
     ]
    }
   ],
   "source": [
    "print(linearMmodel.intercept_)\n",
    "print(linearMmodel.coef_)"
   ]
  },
  {
   "attachments": {},
   "cell_type": "markdown",
   "metadata": {},
   "source": [
    "### Example3 (非線性回歸)\n",
    "上面的例子資料都很均勻分布在一條直線上，但現實的資料可能並只會發生在一條線上。\n",
    "下面示範一個多項次回歸模型例子"
   ]
  },
  {
   "cell_type": "code",
   "execution_count": 11,
   "metadata": {},
   "outputs": [
    {
     "data": {
      "text/plain": [
       "[<matplotlib.lines.Line2D at 0x1db9dd48550>]"
      ]
     },
     "execution_count": 11,
     "metadata": {},
     "output_type": "execute_result"
    },
    {
     "data": {
      "image/png": "[encoded data removed]",
      "text/plain": [
       "<Figure size 432x288 with 1 Axes>"
      ]
     },
     "metadata": {
      "needs_background": "light"
     },
     "output_type": "display_data"
    }
   ],
   "source": [
    "x = np.array([1,2,3,4,5])\n",
    "y = np.array([1,3,8,6,2])\n",
    "#原本shape為(5,),調整為(5,1)\n",
    "x = x[:,np.newaxis]\n",
    "#default 為一元一次方程式\n",
    "model = LinearRegression()\n",
    "model.fit(x,y)\n",
    "yfit = model.predict(x)\n",
    "plt.scatter(x,y)\n",
    "plt.plot(x,yfit)"
   ]
  },
  {
   "cell_type": "code",
   "execution_count": 12,
   "metadata": {},
   "outputs": [
    {
     "data": {
      "text/plain": [
       "[<matplotlib.lines.Line2D at 0x1db9dddce80>]"
      ]
     },
     "execution_count": 12,
     "metadata": {},
     "output_type": "execute_result"
    },
    {
     "data": {
      "image/png": "[encoded data removed]",
      "text/plain": [
       "<Figure size 432x288 with 1 Axes>"
      ]
     },
     "metadata": {
      "needs_background": "light"
     },
     "output_type": "display_data"
    }
   ],
   "source": [
    "from sklearn.preprocessing import PolynomialFeatures\n",
    "from sklearn.pipeline import make_pipeline\n",
    "\n",
    "#make_pipeline是指可以將多個scikit learn的function一起執行\n",
    "\n",
    "def PolynomialRegression(degree=2 , **kwargs):\n",
    "    return make_pipeline(PolynomialFeatures(degree),\n",
    "                         LinearRegression(**kwargs))\n",
    "\n",
    "ypred = PolynomialRegression(degree=4).fit(x,y).predict(x)\n",
    "plt.plot(x,y,\"o\")\n",
    "plt.plot(x,ypred)"
   ]
  },
  {
   "cell_type": "code",
   "execution_count": 37,
   "metadata": {},
   "outputs": [
    {
     "data": {
      "text/plain": [
       "(array([[1.40280301e-01],\n",
       "        [9.03857692e-01],\n",
       "        [5.35815131e-01],\n",
       "        [3.58391981e-01],\n",
       "        [2.43418162e-02],\n",
       "        [2.43342904e-02],\n",
       "        [3.37370600e-03],\n",
       "        [7.50261116e-01],\n",
       "        [3.61339257e-01],\n",
       "        [5.01366775e-01],\n",
       "        [4.23721405e-04],\n",
       "        [9.40725121e-01],\n",
       "        [6.92960750e-01],\n",
       "        [4.50878979e-02],\n",
       "        [3.30603187e-02],\n",
       "        [3.36372142e-02],\n",
       "        [9.25633424e-02],\n",
       "        [2.75369313e-01],\n",
       "        [1.86576499e-01],\n",
       "        [8.48144121e-02]]),\n",
       " array([ 4.82536287,  9.3180902 ,  7.51919171,  6.40615726,  3.42330203,\n",
       "         1.73139017,  0.39388837,  7.39914252,  7.28801505,  8.44804389,\n",
       "        -1.10880022,  9.41482951,  8.13826484,  2.81593263,  1.8829048 ,\n",
       "         4.36933262,  4.79340638,  6.27824604,  7.33307525,  3.36832292]))"
      ]
     },
     "execution_count": 37,
     "metadata": {},
     "output_type": "execute_result"
    }
   ],
   "source": [
    "def make_data(N,err=1,rseed=42):\n",
    "    rng = np.random.RandomState(rseed)\n",
    "    x=rng.rand(N,1)**2\n",
    "    y = 10-1/(x.ravel()+0.1)\n",
    "    if err>0:\n",
    "        y+=err*rng.randn(N)\n",
    "    return x,y\n",
    "\n",
    "make_data(20)"
   ]
  },
  {
   "cell_type": "code",
   "execution_count": 30,
   "metadata": {},
   "outputs": [],
   "source": [
    "x = np.array([[1.40280301e-01],\n",
    "        [9.03857692e-01],\n",
    "        [5.35815131e-01],\n",
    "        [3.58391981e-01],\n",
    "        [2.43418162e-02],\n",
    "        [2.43342904e-02],\n",
    "        [3.37370600e-03],\n",
    "        [7.50261116e-01],\n",
    "        [3.61339257e-01],\n",
    "        [5.01366775e-01],\n",
    "        [4.23721405e-04],\n",
    "        [9.40725121e-01],\n",
    "        [6.92960750e-01],\n",
    "        [4.50878979e-02],\n",
    "        [3.30603187e-02],\n",
    "        [3.36372142e-02],\n",
    "        [9.25633424e-02],\n",
    "        [2.75369313e-01],\n",
    "        [1.86576499e-01],\n",
    "        [8.48144121e-02]])\n",
    "\n",
    "y = np.array([[1.40280301e-01],\n",
    "        [9.03857692e-01],\n",
    "        [5.35815131e-01],\n",
    "        [3.58391981e-01],\n",
    "        [2.43418162e-02],\n",
    "        [2.43342904e-02],\n",
    "        [3.37370600e-03],\n",
    "        [7.50261116e-01],\n",
    "        [3.61339257e-01],\n",
    "        [5.01366775e-01],\n",
    "        [4.23721405e-04],\n",
    "        [9.40725121e-01],\n",
    "        [6.92960750e-01],\n",
    "        [4.50878979e-02],\n",
    "        [3.30603187e-02],\n",
    "        [3.36372142e-02],\n",
    "        [9.25633424e-02],\n",
    "        [2.75369313e-01],\n",
    "        [1.86576499e-01],\n",
    "        [8.48144121e-02]])"
   ]
  },
  {
   "cell_type": "code",
   "execution_count": 33,
   "metadata": {},
   "outputs": [
    {
     "data": {
      "text/plain": [
       "<matplotlib.legend.Legend at 0x1db9e27aac0>"
      ]
     },
     "execution_count": 33,
     "metadata": {},
     "output_type": "execute_result"
    },
    {
     "data": {
      "image/png": "[encoded data removed]",
      "text/plain": [
       "<Figure size 432x288 with 1 Axes>"
      ]
     },
     "metadata": {
      "needs_background": "light"
     },
     "output_type": "display_data"
    }
   ],
   "source": [
    "#測試資料集\n",
    "x_test = np.linspace(-0.1,1.1,500)[:,None]\n",
    "plt.scatter(x.ravel(),y,color=\"black\")\n",
    "#測試1,3,7的degree\n",
    "for degree in [1,3,7]:\n",
    "    y_tset = PolynomialRegression(degree).fit(x,y).predict(x_test)\n",
    "    plt.plot(x_test.ravel(),y_tset,label=\"degree={}\".format(degree))\n",
    "plt.xlim(-0.1,1.0)\n",
    "plt.ylim(-2,12)\n",
    "plt.legend(loc=\"best\")"
   ]
  }
 ],
 "metadata": {
  "kernelspec": {
   "display_name": "base",
   "language": "python",
   "name": "python3"
  },
  "language_info": {
   "codemirror_mode": {
    "name": "ipython",
    "version": 3
   },
   "file_extension": ".py",
   "mimetype": "text/x-python",
   "name": "python",
   "nbconvert_exporter": "python",
   "pygments_lexer": "ipython3",
   "version": "3.9.7"
  },
  "orig_nbformat": 4,
  "vscode": {
   "interpreter": {
    "hash": "88279d2366fe020547cde40dd65aa0e3aa662a6ec1f3ca12d88834876c85e1a6"
   }
  }
 },
 "nbformat": 4,
 "nbformat_minor": 2
}
