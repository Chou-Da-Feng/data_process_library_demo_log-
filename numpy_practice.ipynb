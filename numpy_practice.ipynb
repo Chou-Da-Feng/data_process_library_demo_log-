{
 "cells": [
  {
   "cell_type": "code",
   "execution_count": 2,
   "metadata": {},
   "outputs": [
    {
     "name": "stdout",
     "output_type": "stream",
     "text": [
      "[ 3  4 -5]\n",
      "3\n"
     ]
    }
   ],
   "source": [
    "import numpy as np\n",
    "\n",
    "ndarr = np.array([3, 4, -5])  \n",
    "\n",
    "print(ndarr)\n",
    "print(ndarr.size)  # 資料數量"
   ]
  },
  {
   "cell_type": "code",
   "execution_count": 22,
   "metadata": {},
   "outputs": [
    {
     "name": "stdout",
     "output_type": "stream",
     "text": [
      "[[[[1. 1.]\n",
      "   [1. 1.]]\n",
      "\n",
      "  [[1. 1.]\n",
      "   [1. 1.]]]]\n"
     ]
    }
   ],
   "source": [
    "#建立一維資料\n",
    "\n",
    "data = np.zeros(3)\n",
    "data11 = np.empty(4)\n",
    "data12 = np.ones(3)     #3個資料為一的陣列\n",
    "data13 = np.arange(5) \n",
    "data14 = np.array([3,4,5,6,7])\n",
    "#print(data14)\n",
    "\n",
    "#建立二維資料\n",
    "data21 = np.array([         #3*3的二維陣列\n",
    "    [2,3,4],\n",
    "    [3,4,5],\n",
    "    [4,5,6]\n",
    "])         \n",
    "\n",
    "data22 = np.empty([3,3])    #3*3未指定資料的陣列\n",
    "data23 = np.ones([2,3])\n",
    "#print(data23)\n",
    "\n",
    "#建立三維陣列\n",
    "data31 = np.array([\n",
    "    [  [1,2,3],[4,5,6]\n",
    "\n",
    "    ],\n",
    "    [  [7,8,9],[2,3,3]\n",
    "\n",
    "    ]\n",
    "])\n",
    "data32 = np.empty([2,2,3])\n",
    "#print(data32)\n",
    "\n",
    "#建立高維陣列\n",
    "data41 = np.array([    #1*2*2*2\n",
    "    [\n",
    "        [[3,1]],[[2,3]]\n",
    "    ],\n",
    "    [\n",
    "        [[6,6]],[[8,7]]\n",
    "    ]\n",
    "])\n",
    "\n",
    "data42 = np.ones([1,2,2,2])\n",
    "print(data42)"
   ]
  },
  {
   "cell_type": "code",
   "execution_count": 23,
   "metadata": {},
   "outputs": [
    {
     "name": "stdout",
     "output_type": "stream",
     "text": [
      "[[ 2  3  4]\n",
      " [-2  8 10]]\n"
     ]
    }
   ],
   "source": [
    "#陣列運算\n",
    "data1 = np.array([3,4,5])\n",
    "data2 = np.array([4,5,6])\n",
    "result = data1 + data2\n",
    "#print(result)\n",
    "#---------------------------------------------------\n",
    "#矩陣運算\n",
    "matrix1 = np.array(    #1*2matrix\n",
    "    [2,5]\n",
    ")\n",
    "matrix2 = np.array([    #2*3matrix\n",
    "    [3,5,4],\n",
    "    [2,3,6]\n",
    "])\n",
    "\n",
    "#result = matrix1.dot(matrix2)  #1*3  # result= matrix1@matrix2   #內積\n",
    "result = matrix1@matrix2\n",
    "result2 = np.outer(matrix1,matrix2)  #2*6  #外積   #matrix1的第一個元素乘上matrix2的所有元素形成第一排,依此類推\n",
    "#print(result2)\n",
    "#-----------------------------------------------------------\n",
    "#統計計算\n",
    "datastat = np.array([\n",
    "    [2,3,4],\n",
    "    [-4,5,6]\n",
    "])\n",
    "result3 = datastat.sum()  #總和\n",
    "result4 = datastat.max()  #最大值  min最小值\n",
    "result5 = datastat.mean() #平均數\n",
    "result6 = datastat.std()  #標準差\n",
    "result31 = datastat.sum(axis=0)  #針對欄去做總和 column  #0為行  1為列\n",
    "result32 = datastat.sum(axis=1)  #針對列去做總和 row\n",
    "result7 = datastat.cumsum(axis=0) #逐值累加\n",
    "print(result7)"
   ]
  },
  {
   "cell_type": "code",
   "execution_count": null,
   "metadata": {},
   "outputs": [],
   "source": [
    "data = np.array([\n",
    "    [2,3,4],\n",
    "    [3,4,5]\n",
    "])"
   ]
  },
  {
   "cell_type": "code",
   "execution_count": 27,
   "metadata": {},
   "outputs": [
    {
     "data": {
      "text/plain": [
       "array([[0., 0., 0.],\n",
       "       [0., 0., 0.]])"
      ]
     },
     "execution_count": 27,
     "metadata": {},
     "output_type": "execute_result"
    }
   ],
   "source": [
    "np.zeros(shape=(2,3))"
   ]
  },
  {
   "attachments": {},
   "cell_type": "markdown",
   "metadata": {},
   "source": [
    "### 多維度操作"
   ]
  },
  {
   "attachments": {},
   "cell_type": "markdown",
   "metadata": {},
   "source": [
    "# 多維度操作\n",
    "- A\n",
    "1. AAAA"
   ]
  },
  {
   "cell_type": "code",
   "execution_count": 3,
   "metadata": {},
   "outputs": [
    {
     "name": "stdout",
     "output_type": "stream",
     "text": [
      "(1, 5)\n",
      "[[3 2]\n",
      " [6 8]]\n"
     ]
    }
   ],
   "source": [
    "data41 = np.array([    #2*2*1*2\n",
    "    [\n",
    "        [[3,1]],[[2,3]]\n",
    "    ],\n",
    "    [\n",
    "        [[6,6]],[[8,7]]\n",
    "    ]\n",
    "])\n",
    "\n",
    "aaa = np.array([\n",
    "    [1,2,3,4,5]\n",
    "])\n",
    "\n",
    "print(aaa.shape)   #shape=size 1*5的向量\n",
    "print(data41[:,:,0,0])\n"
   ]
  },
  {
   "cell_type": "code",
   "execution_count": 8,
   "metadata": {},
   "outputs": [
    {
     "name": "stdout",
     "output_type": "stream",
     "text": [
      "[[ 1  2  3  7  8  9]\n",
      " [ 4  5  6 10 11 12]]\n"
     ]
    }
   ],
   "source": [
    "#測試資料\n",
    "arr1 = np.array([          #2*3\n",
    "    [1,2,3],\n",
    "    [4,5,6]\n",
    "])\n",
    "\n",
    "arr2 = np.array([          #2*3\n",
    "    [7,8,9],\n",
    "    [10,11,12]\n",
    "])\n",
    "\n",
    "resulta = np.vstack((arr1,arr2))  #vstack = 合併第一個維度  #變4*3\n",
    "resultb = np.hstack((arr1,arr2))  #hstack = 合併第二個維度  #變2*6\n",
    "print(resultb)"
   ]
  },
  {
   "cell_type": "code",
   "execution_count": 12,
   "metadata": {},
   "outputs": [
    {
     "name": "stdout",
     "output_type": "stream",
     "text": [
      "[array([[2, 4, 6],\n",
      "       [1, 3, 5]]), array([[ 8, 10, 12],\n",
      "       [ 7,  9, 11]])]\n"
     ]
    }
   ],
   "source": [
    "#測試資料\n",
    "arr3 = np.array([     #2*6\n",
    "    [2,4,6,8,10,12],\n",
    "    [1,3,5,7,9,11]\n",
    "])\n",
    "\n",
    "#根據第一個維度切割\n",
    "resultc = np.vsplit(arr3,2)  #2*6變成 1*6 1*6\n",
    "#print(resultc)\n",
    "\n",
    "#根據第二個維度切割\n",
    "resultd = np.hsplit(arr3,2)   #2*6變成 2*3 2*3\n",
    "print(resultd)"
   ]
  }
 ],
 "metadata": {
  "kernelspec": {
   "display_name": "base",
   "language": "python",
   "name": "python3"
  },
  "language_info": {
   "codemirror_mode": {
    "name": "ipython",
    "version": 3
   },
   "file_extension": ".py",
   "mimetype": "text/x-python",
   "name": "python",
   "nbconvert_exporter": "python",
   "pygments_lexer": "ipython3",
   "version": "3.9.7"
  },
  "orig_nbformat": 4,
  "vscode": {
   "interpreter": {
    "hash": "88279d2366fe020547cde40dd65aa0e3aa662a6ec1f3ca12d88834876c85e1a6"
   }
  }
 },
 "nbformat": 4,
 "nbformat_minor": 2
}
