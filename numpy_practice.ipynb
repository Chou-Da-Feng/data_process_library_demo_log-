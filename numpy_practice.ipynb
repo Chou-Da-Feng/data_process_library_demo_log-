{
 "cells": [
  {
   "cell_type": "code",
   "execution_count": 1,
   "metadata": {},
   "outputs": [
    {
     "name": "stdout",
     "output_type": "stream",
     "text": [
      "[ 3  4 -5]\n",
      "3\n"
     ]
    }
   ],
   "source": [
    "import numpy as np\n",
    "\n",
    "ndarr = np.array([3, 4, -5])  \n",
    "\n",
    "print(ndarr)\n",
    "print(ndarr.size)  # 資料數量"
   ]
  },
  {
   "cell_type": "code",
   "execution_count": 22,
   "metadata": {},
   "outputs": [
    {
     "name": "stdout",
     "output_type": "stream",
     "text": [
      "[[[[1. 1.]\n",
      "   [1. 1.]]\n",
      "\n",
      "  [[1. 1.]\n",
      "   [1. 1.]]]]\n"
     ]
    }
   ],
   "source": [
    "#建立一維資料\n",
    "\n",
    "data = np.zeros(3)\n",
    "data11 = np.empty(4)\n",
    "data12 = np.ones(3)     #3個資料為一的陣列\n",
    "data13 = np.arange(5) \n",
    "data14 = np.array([3,4,5,6,7])\n",
    "#print(data14)\n",
    "\n",
    "#建立二維資料\n",
    "data21 = np.array([         #3*3的二維陣列\n",
    "    [2,3,4],\n",
    "    [3,4,5],\n",
    "    [4,5,6]\n",
    "])         \n",
    "\n",
    "data22 = np.empty([3,3])    #3*3未指定資料的陣列\n",
    "data23 = np.ones([2,3])\n",
    "#print(data23)\n",
    "\n",
    "#建立三維陣列\n",
    "data31 = np.array([\n",
    "    [  [1,2,3],[4,5,6]\n",
    "\n",
    "    ],\n",
    "    [  [7,8,9],[2,3,3]\n",
    "\n",
    "    ]\n",
    "])\n",
    "data32 = np.empty([2,2,3])\n",
    "#print(data32)\n",
    "\n",
    "#建立高維陣列\n",
    "data41 = np.array([    #1*2*2*2\n",
    "    [\n",
    "        [[3,1]],[[2,3]]\n",
    "    ],\n",
    "    [\n",
    "        [[6,6]],[[8,7]]\n",
    "    ]\n",
    "])\n",
    "\n",
    "data42 = np.ones([1,2,2,2])\n",
    "print(data42)"
   ]
  },
  {
   "cell_type": "code",
   "execution_count": 4,
   "metadata": {},
   "outputs": [
    {
     "ename": "NameError",
     "evalue": "name 'x' is not defined",
     "output_type": "error",
     "traceback": [
      "\u001b[1;31m---------------------------------------------------------------------------\u001b[0m",
      "\u001b[1;31mNameError\u001b[0m                                 Traceback (most recent call last)",
      "\u001b[1;32m~\\AppData\\Local\\Temp/ipykernel_17168/214931598.py\u001b[0m in \u001b[0;36m<module>\u001b[1;34m\u001b[0m\n\u001b[0;32m      1\u001b[0m \u001b[1;32mimport\u001b[0m \u001b[0msympy\u001b[0m\u001b[1;33m\u001b[0m\u001b[1;33m\u001b[0m\u001b[0m\n\u001b[1;32m----> 2\u001b[1;33m \u001b[0mvars\u001b[0m\u001b[1;33m(\u001b[0m\u001b[0mx\u001b[0m\u001b[1;33m)\u001b[0m\u001b[1;33m\u001b[0m\u001b[1;33m\u001b[0m\u001b[0m\n\u001b[0m\u001b[0;32m      3\u001b[0m \u001b[0msympy\u001b[0m\u001b[1;33m.\u001b[0m\u001b[0mdiff\u001b[0m\u001b[1;33m(\u001b[0m\u001b[0mx\u001b[0m\u001b[1;33m**\u001b[0m\u001b[1;36m2\u001b[0m\u001b[1;33m,\u001b[0m\u001b[0mx\u001b[0m\u001b[1;33m)\u001b[0m\u001b[1;33m\u001b[0m\u001b[1;33m\u001b[0m\u001b[0m\n",
      "\u001b[1;31mNameError\u001b[0m: name 'x' is not defined"
     ]
    }
   ],
   "source": [
    "import sympy\n"
   ]
  }
 ],
 "metadata": {
  "kernelspec": {
   "display_name": "base",
   "language": "python",
   "name": "python3"
  },
  "language_info": {
   "codemirror_mode": {
    "name": "ipython",
    "version": 3
   },
   "file_extension": ".py",
   "mimetype": "text/x-python",
   "name": "python",
   "nbconvert_exporter": "python",
   "pygments_lexer": "ipython3",
   "version": "3.9.7"
  },
  "orig_nbformat": 4,
  "vscode": {
   "interpreter": {
    "hash": "88279d2366fe020547cde40dd65aa0e3aa662a6ec1f3ca12d88834876c85e1a6"
   }
  }
 },
 "nbformat": 4,
 "nbformat_minor": 2
}
