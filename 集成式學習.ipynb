{
 "cells": [
  {
   "attachments": {},
   "cell_type": "markdown",
   "metadata": {},
   "source": [
    "### 集成式學習\n",
    "Ensemble learning 又稱集成學習，目的是希望結合眾多的模型產生一個強大的模型\n",
    "1. Bagging:\n",
    "    Random forest\n",
    "\n",
    "2. Boosting:\n",
    "    1. AdaBoost\n",
    "    2. Gradient Boosting\n",
    "\n",
    "\n",
    "3. Stacking"
   ]
  },
  {
   "attachments": {},
   "cell_type": "markdown",
   "metadata": {},
   "source": [
    "### Bagging 自助聚合\n",
    "Bagging 是 Bootstrap aggregating 的縮寫\n",
    "\n",
    "把訓練資料重新採樣產生不同組的訓練資料\n",
    "\n",
    "最常見的例子為隨機森林(Random forest)"
   ]
  },
  {
   "attachments": {},
   "cell_type": "markdown",
   "metadata": {},
   "source": [
    "### 隨機森林(Random forest)\n",
    "\n",
    "隨機森林 = 進階版決策樹\n",
    "\n",
    "由很多樹集合在一起，每一棵樹都是各自的決策樹\n",
    "\n",
    "每一棵樹只能看見部分的特徵\n",
    "\n",
    "集合每一棵樹的預測(使用多數決或平均)"
   ]
  },
  {
   "attachments": {},
   "cell_type": "markdown",
   "metadata": {},
   "source": [
    "### Boosting 提升法\n",
    "Boosting 會根據每一筆訓練資料的難或簡單給予不同的尊重\n",
    "\n",
    "對於難的資料我們加強他的權重再訓練一個新的分類器或回歸器\n",
    "\n",
    "最常見的例子為 AdaBoost 、 Gradient Boosting 、 XGboost"
   ]
  },
  {
   "attachments": {},
   "cell_type": "markdown",
   "metadata": {},
   "source": [
    "### Boosting 常見演算法\n",
    "\n",
    "AdaBoost:\n",
    "1. Adaptive Boosting 的縮寫\n",
    "2. 該演算法需要給定n個 base learners\n",
    "3. 後來的learner會針對前面 learner做得不好的部份去做補強\n",
    "\n",
    "Gradient Boosting:\n",
    "1. AdaBoost 的延伸\n",
    "2. 最後的預測即為將這k個learner的預測加總在一起\n",
    "3. 每一個learner 都是簡單很淺的決策樹因此不會有過度擬合的問題\n",
    "\n",
    "XGBoost:\n",
    "1. Gradient Boosting 延伸\n",
    "2. 全名為 eXtreme Gradient Boosting\n",
    "3. 結合 Bagging 和 Boosting 的優點"
   ]
  },
  {
   "attachments": {},
   "cell_type": "markdown",
   "metadata": {},
   "source": [
    "### Stacking 堆疊法\n",
    "產生出m個不同演算法的base learners 模型\n",
    "\n",
    "base learner 模型彼此間並無互相關聯\n",
    "\n",
    "把 m 個 base learner的輸出當成新的模型的輸入，另外在訓練一個模型"
   ]
  },
  {
   "cell_type": "code",
   "execution_count": null,
   "metadata": {},
   "outputs": [],
   "source": []
  }
 ],
 "metadata": {
  "kernelspec": {
   "display_name": "env",
   "language": "python",
   "name": "python3"
  },
  "language_info": {
   "name": "python",
   "version": "3.9.13"
  },
  "orig_nbformat": 4,
  "vscode": {
   "interpreter": {
    "hash": "4d8f8f06aeace86465c4ac3ec675eb8f9a9c033fa019aea5d2555af33b1b9ed1"
   }
  }
 },
 "nbformat": 4,
 "nbformat_minor": 2
}
