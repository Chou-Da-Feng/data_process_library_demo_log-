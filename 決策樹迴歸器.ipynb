{
 "cells": [
  {
   "attachments": {},
   "cell_type": "markdown",
   "metadata": {},
   "source": [
    "### Decision Tree Regression\n",
    "當數據集的輸出為連續性數值時，該樹算法就是一個迴歸樹。透過樹的展開，並用葉節點的均值作為預測值。"
   ]
  },
  {
   "attachments": {},
   "cell_type": "markdown",
   "metadata": {},
   "source": [
    "### 迴歸樹該如何選擇切割點?\n",
    "\n",
    "透過評估指標找出誤差最小的值作為樹的特徵選擇與切割點\n",
    "\n",
    "1. Mean Square Error (MSE)\n",
    "2. Mean Absolute Error (MAE)"
   ]
  },
  {
   "attachments": {},
   "cell_type": "markdown",
   "metadata": {},
   "source": [
    "### CART決策樹\n",
    "1. scikit-learn 決策樹演算法採用CART(Classification and Regression Tree)樹演算法\n",
    "2. 可以做分類和迴歸預測\n",
    "3. 在每一個節點上都是採用二分法"
   ]
  },
  {
   "attachments": {},
   "cell_type": "markdown",
   "metadata": {},
   "source": [
    "### 決策樹的總結\n",
    "1. 決策樹透過所有特徵與對應的值將資料切分\n",
    "2. 樹的深度越深，過度擬合機率越高"
   ]
  },
  {
   "attachments": {},
   "cell_type": "markdown",
   "metadata": {},
   "source": [
    "### Example 1 (簡單線性回歸)\n",
    "簡單線性回歸舉例， $$ y=ax+b $$ ，a稱為斜率 ， b稱為截距"
   ]
  },
  {
   "cell_type": "code",
   "execution_count": 1,
   "metadata": {},
   "outputs": [
    {
     "data": {
      "image/png": "[encoded data removed]",
      "text/plain": [
       "<Figure size 432x288 with 1 Axes>"
      ]
     },
     "metadata": {
      "needs_background": "light"
     },
     "output_type": "display_data"
    }
   ],
   "source": [
    "#import \n",
    "import numpy as np\n",
    "import matplotlib.pyplot as plt\n",
    "\n",
    "#產生亂數資料\n",
    "np.random.seed(0)\n",
    "noise = np.random.rand(100,1)  #0~1之間 隨機取100個\n",
    "x = np.random.rand(100,1)\n",
    "y = 3 * x + 15 +noise          # y=ax+b Target function a=3,b=15 \n",
    "\n",
    "\n",
    "#plot\n",
    "plt.scatter(x,y,s=10)\n",
    "plt.xlabel(\"x\")\n",
    "plt.ylabel(\"y\")\n",
    "plt.show()"
   ]
  },
  {
   "attachments": {},
   "cell_type": "markdown",
   "metadata": {},
   "source": [
    "### 迴歸決策樹\n",
    "\n",
    "Parameters:\n",
    "\n",
    "1. criterion : 評估切割點指標，mse / friedman_mse / mae 。\n",
    "2. max_depth : 樹的最大深度\n",
    "3. splitter :  特徵劃分點選擇標準，best/random。預設為best\n",
    "4. random_state : 亂數種子，確保每次訓練結果都一樣，splitter=random才有用\n",
    "5. min_samples_split : 至少有多少資料才能再分\n",
    "6. min_samples_leaf : 分完至少有多少資料才能分\n",
    "\n",
    "Attributes:\n",
    "\n",
    "feature_importances_ : 查詢模型特徵的重要程度\n",
    "\n",
    "Methods:\n",
    "1. fit : 放入X、y進行模型擬合\n",
    "2. predict : 預測並回傳預測類別\n",
    "3. score : 預測成功的比例\n",
    "4. predict_proba : 預測每個類別的機率值\n",
    "5. get_depth : 取得樹的深度"
   ]
  },
  {
   "cell_type": "code",
   "execution_count": 5,
   "metadata": {},
   "outputs": [],
   "source": [
    "from sklearn.tree import DecisionTreeRegressor\n",
    "\n",
    "#建立DecisionTreeRegressor模型\n",
    "decisionTreeModel = DecisionTreeRegressor(criterion=\"mse\",max_depth=6,splitter=\"best\",random_state=42)\n",
    "\n",
    "#使用訓練資料訓練模型\n",
    "decisionTreeModel.fit(x,y)\n",
    "\n",
    "#使用訓練資料預測\n",
    "predicted = decisionTreeModel.predict(x)"
   ]
  },
  {
   "attachments": {},
   "cell_type": "markdown",
   "metadata": {},
   "source": [
    "### 模型評估\n",
    "scikit-learn 決策樹回歸模型的score函式是R2 score，可作為模型評估依據，其數值越接近於1代表模型越佳。除了R2 score還有其他許多迴歸模型的評估方法，例如 : MSE 、 MAE 、 RMSE 。"
   ]
  },
  {
   "cell_type": "code",
   "execution_count": 6,
   "metadata": {},
   "outputs": [
    {
     "name": "stdout",
     "output_type": "stream",
     "text": [
      "R2 score :  0.9724379567401821\n",
      "MSE score :  0.020412066722449444\n"
     ]
    }
   ],
   "source": [
    "from sklearn import metrics\n",
    "print(\"R2 score : \" , decisionTreeModel.score(x,y))\n",
    "mse = metrics.mean_squared_error(y,predicted)\n",
    "print(\"MSE score : \",mse)"
   ]
  },
  {
   "cell_type": "code",
   "execution_count": 7,
   "metadata": {},
   "outputs": [
    {
     "data": {
      "image/png": "[encoded data removed]",
      "text/plain": [
       "<Figure size 432x288 with 1 Axes>"
      ]
     },
     "metadata": {
      "needs_background": "light"
     },
     "output_type": "display_data"
    }
   ],
   "source": [
    "#plot\n",
    "plt.scatter(x,y,s=10,label=\"True\")\n",
    "plt.scatter(x,predicted,color=\"r\",s=10,label=\"Predicted\")\n",
    "plt.xlabel(\"x\")\n",
    "plt.ylabel(\"y\")\n",
    "plt.legend()\n",
    "plt.show()"
   ]
  },
  {
   "cell_type": "code",
   "execution_count": 8,
   "metadata": {},
   "outputs": [],
   "source": [
    "import graphviz\n",
    "from sklearn.tree import export_graphviz"
   ]
  },
  {
   "cell_type": "code",
   "execution_count": 10,
   "metadata": {},
   "outputs": [
    {
     "data": {
      "text/plain": [
       "'\\ndot_data = export_graphviz(decisionTreeModel,out_file=None,\\nfeature_names=[\"x\"],filled=True,rounded=True,special_characters=True)\\n\\ngraph = graphviz.Source(dot_data)\\n\\ngraph\\n'"
      ]
     },
     "execution_count": 10,
     "metadata": {},
     "output_type": "execute_result"
    }
   ],
   "source": [
    "'''\n",
    "dot_data = export_graphviz(decisionTreeModel,out_file=None,\n",
    "feature_names=[\"x\"],filled=True,rounded=True,special_characters=True)\n",
    "\n",
    "graph = graphviz.Source(dot_data)\n",
    "\n",
    "graph\n",
    "'''"
   ]
  }
 ],
 "metadata": {
  "kernelspec": {
   "display_name": "base",
   "language": "python",
   "name": "python3"
  },
  "language_info": {
   "codemirror_mode": {
    "name": "ipython",
    "version": 3
   },
   "file_extension": ".py",
   "mimetype": "text/x-python",
   "name": "python",
   "nbconvert_exporter": "python",
   "pygments_lexer": "ipython3",
   "version": "3.9.7"
  },
  "orig_nbformat": 4,
  "vscode": {
   "interpreter": {
    "hash": "88279d2366fe020547cde40dd65aa0e3aa662a6ec1f3ca12d88834876c85e1a6"
   }
  }
 },
 "nbformat": 4,
 "nbformat_minor": 2
}
