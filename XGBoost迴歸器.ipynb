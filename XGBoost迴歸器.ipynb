{
 "cells": [
  {
   "attachments": {},
   "cell_type": "markdown",
   "metadata": {},
   "source": [
    "### XGBoost Regression\n",
    "XGBoost 是許多資料科學競賽中常出現的常勝軍。也是當今熱門的ML演算法\n",
    "\n",
    "1. 使用許多策略去防止過擬合\n",
    "2. early stop 機制可以提早結束訓練\n",
    "3. 可手動設置樣本權重以及學習速率"
   ]
  },
  {
   "attachments": {},
   "cell_type": "markdown",
   "metadata": {},
   "source": [
    "### Boosting vs Decision tree\n",
    "1. 決策樹通常為一顆複雜的樹\n",
    "2. Boosting 是產生非常多棵的樹但是每一棵的樹都很簡單\n",
    "\n",
    "目標把多個簡單的樹合再一起才能當最後的預測"
   ]
  },
  {
   "attachments": {},
   "cell_type": "markdown",
   "metadata": {},
   "source": [
    "### Bagging vs Boosting\n",
    "一般來說Boosting的模型會比Bagging來的精準\n",
    "\n",
    "1. Bagging 透過抽樣的方式生成樹，每棵樹彼此獨立\n",
    "2. Boosting 透過序列的方式生成樹，後面生成的樹會與前一棵樹相關"
   ]
  },
  {
   "attachments": {},
   "cell_type": "markdown",
   "metadata": {},
   "source": [
    "### Example 1 (簡單線性回歸)\n",
    "簡單線性回歸舉例， $$ y=ax+b $$ ，a稱為斜率 ， b稱為截距"
   ]
  },
  {
   "cell_type": "code",
   "execution_count": 1,
   "metadata": {},
   "outputs": [
    {
     "data": {
      "image/png": "[encoded data removed]",
      "text/plain": [
       "<Figure size 432x288 with 1 Axes>"
      ]
     },
     "metadata": {
      "needs_background": "light"
     },
     "output_type": "display_data"
    }
   ],
   "source": [
    "#import \n",
    "import numpy as np\n",
    "import matplotlib.pyplot as plt\n",
    "\n",
    "#產生亂數資料\n",
    "np.random.seed(0)\n",
    "noise = np.random.rand(100,1)  #0~1之間 隨機取100個\n",
    "x = np.random.rand(100,1)\n",
    "y = 3 * x + 15 +noise          # y=ax+b Target function a=3,b=15 \n",
    "\n",
    "\n",
    "#plot\n",
    "plt.scatter(x,y,s=10)\n",
    "plt.xlabel(\"x\")\n",
    "plt.ylabel(\"y\")\n",
    "plt.show()"
   ]
  },
  {
   "attachments": {},
   "cell_type": "markdown",
   "metadata": {},
   "source": [
    "### XGBoost(回歸器)\n",
    "Boosting 則是希望能夠由後面生成的樹，來修正前面樹，學得不好的地方\n",
    "\n",
    "Paremeter:\n",
    "1. n_estimators : 總共迭代的次數，即決策樹的個數，預設值為100\n",
    "2. max_depth : 樹的最大深度，默認值為6\n",
    "3. booster : gbtree 樹模型(預設) / gblinear 線性模型\n",
    "4. learning_rate : 學習速率 ， 預設0.3\n",
    "5. gamma : 懲罰項係數，指定節點分裂所需的最小損失函數下降值\n",
    "\n",
    "Attributes :\n",
    "1. feature_importances_ : 查詢模型特徵的重要程度\n",
    "\n",
    "Methods :\n",
    "1. fit : 放入X、y進行模型擬合\n",
    "2. predict : 預測並回傳預測類別\n",
    "3. score : 預測成功的比例\n",
    "4. predict_proba : 預測每個類別的機率值"
   ]
  },
  {
   "cell_type": "code",
   "execution_count": 4,
   "metadata": {},
   "outputs": [],
   "source": [
    "import xgboost as xgb\n",
    "#建立xgbrModel模型\n",
    "xgbrModel = xgb.XGBRFRegressor()\n",
    "\n",
    "#使用訓練資料訓練模型\n",
    "xgbrModel.fit(x,y)\n",
    "\n",
    "#使用訓練資料預測\n",
    "predicted = xgbrModel.predict(x)"
   ]
  },
  {
   "cell_type": "code",
   "execution_count": 5,
   "metadata": {},
   "outputs": [
    {
     "name": "stdout",
     "output_type": "stream",
     "text": [
      "Score 0.9763621876981902\n"
     ]
    }
   ],
   "source": [
    "print(\"Score\" , xgbrModel.score(x,y))"
   ]
  },
  {
   "attachments": {},
   "cell_type": "markdown",
   "metadata": {},
   "source": [
    "### 模型評估\n",
    "scikit-learn 決策樹回歸模型的score函式是R2 score，可作為模型評估依據，其數值越接近於1代表模型越佳。除了R2 score還有其他許多迴歸模型的評估方法，例如 : MSE 、 MAE 、 RMSE 。"
   ]
  },
  {
   "cell_type": "code",
   "execution_count": 7,
   "metadata": {},
   "outputs": [
    {
     "name": "stdout",
     "output_type": "stream",
     "text": [
      "R2 score 0.9763621876981902\n",
      "MSE score:  0.017505835736811932\n"
     ]
    }
   ],
   "source": [
    "from sklearn import metrics\n",
    "print(\"R2 score\" , xgbrModel.score(x,y))\n",
    "\n",
    "mse = metrics.mean_squared_error(y,predicted)\n",
    "\n",
    "print(\"MSE score: \",mse)\n"
   ]
  },
  {
   "cell_type": "code",
   "execution_count": 8,
   "metadata": {},
   "outputs": [
    {
     "data": {
      "image/png": "[encoded data removed]",
      "text/plain": [
       "<Figure size 432x288 with 1 Axes>"
      ]
     },
     "metadata": {
      "needs_background": "light"
     },
     "output_type": "display_data"
    }
   ],
   "source": [
    "#plot\n",
    "plt.scatter(x,y,s=10,label=\"True\")\n",
    "plt.scatter(x,predicted,color=\"r\",s=10,label=\"Predicted\")\n",
    "plt.xlabel(\"x\")\n",
    "plt.ylabel(\"y\")\n",
    "plt.legend()\n",
    "plt.show()"
   ]
  }
 ],
 "metadata": {
  "kernelspec": {
   "display_name": "base",
   "language": "python",
   "name": "python3"
  },
  "language_info": {
   "codemirror_mode": {
    "name": "ipython",
    "version": 3
   },
   "file_extension": ".py",
   "mimetype": "text/x-python",
   "name": "python",
   "nbconvert_exporter": "python",
   "pygments_lexer": "ipython3",
   "version": "3.9.7"
  },
  "orig_nbformat": 4,
  "vscode": {
   "interpreter": {
    "hash": "88279d2366fe020547cde40dd65aa0e3aa662a6ec1f3ca12d88834876c85e1a6"
   }
  }
 },
 "nbformat": 4,
 "nbformat_minor": 2
}
