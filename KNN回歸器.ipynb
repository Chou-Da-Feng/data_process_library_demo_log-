{
 "cells": [
  {
   "attachments": {},
   "cell_type": "markdown",
   "metadata": {},
   "source": [
    "### KNN(Regression)\n",
    "在sklearn中KNN提供迴歸(Regression)演算法\n",
    "\n",
    "1. 輸出的結果是一個連續性數值\n",
    "2. 該值是其k個最近鄰居的值的平均值"
   ]
  },
  {
   "attachments": {},
   "cell_type": "markdown",
   "metadata": {},
   "source": [
    "### KNN 與 k-means 勿混淆\n",
    "1. k-近鄰演算法的缺點是對資料的局部結構非常敏感\n",
    "2. KNN 與 K means 無任何關聯"
   ]
  },
  {
   "attachments": {},
   "cell_type": "markdown",
   "metadata": {},
   "source": [
    "### Example 1 (簡單線性回歸)\n",
    "簡單線性回歸舉例， $$ y=ax+b $$ ，a稱為斜率 ， b稱為截距"
   ]
  },
  {
   "cell_type": "code",
   "execution_count": 4,
   "metadata": {},
   "outputs": [
    {
     "data": {
      "image/png": "[encoded data removed]",
      "text/plain": [
       "<Figure size 432x288 with 1 Axes>"
      ]
     },
     "metadata": {
      "needs_background": "light"
     },
     "output_type": "display_data"
    }
   ],
   "source": [
    "#import \n",
    "import numpy as np\n",
    "import matplotlib.pyplot as plt\n",
    "\n",
    "#產生亂數資料\n",
    "np.random.seed(0)\n",
    "noise = np.random.rand(100,1)  #0~1之間 隨機取100個\n",
    "x = np.random.rand(100,1)\n",
    "y = 3 * x + 15 +noise          # y=ax+b Target function a=3,b=15 \n",
    "\n",
    "\n",
    "#plot\n",
    "plt.scatter(x,y,s=10)\n",
    "plt.xlabel(\"x\")\n",
    "plt.ylabel(\"y\")\n",
    "plt.show()"
   ]
  },
  {
   "attachments": {},
   "cell_type": "markdown",
   "metadata": {},
   "source": [
    "### KNN Regression\n",
    "KNN 不僅能夠作為分類器，也可以做回歸連續性的數值預測。其預測值為k個最近鄰居的值的平均值。\n",
    "\n",
    "Parameters:\n",
    "1. n_neighbors : 設定鄰居的數量(k)，選取最近的k個點，預設為5\n",
    "2. algorithm : 搜尋數演算法{\"auto\",\"ball_tree\",\"kd_tree\",\"brute\"}，可選。\n",
    "3. metric : 計算距離的方式，預設為歐幾里得距離\n",
    "\n",
    "Attributes:\n",
    "1. classes_ : 取得類別陣列\n",
    "2. effective_metric_ : 取得計算距離的公式\n",
    "\n",
    "Method :\n",
    "1. fit : 放入X、y進行模型擬合\n",
    "2. predict : 預測並回傳預測類別\n",
    "3. score : 預測成功的比例\n"
   ]
  },
  {
   "cell_type": "code",
   "execution_count": 5,
   "metadata": {},
   "outputs": [],
   "source": [
    "from sklearn.neighbors import KNeighborsRegressor\n",
    "\n",
    "#建立KNN模型\n",
    "knnModel = KNeighborsRegressor(n_neighbors=3)\n",
    "#使用訓練資料訓練模型\n",
    "knnModel.fit(x,y)\n",
    "#使用訓練資料預測\n",
    "predicted = knnModel.predict(x)"
   ]
  },
  {
   "attachments": {},
   "cell_type": "markdown",
   "metadata": {},
   "source": [
    "### 模型評估\n",
    "scikit-learn KNN回歸模型的score函式是R2 score，可作為模型評估依據，其數據越接近於1代表模型越佳。除了R2 score還有其他許多回歸模型的評估方法，例如: MSE、MAE、RMSE。"
   ]
  },
  {
   "cell_type": "code",
   "execution_count": 6,
   "metadata": {},
   "outputs": [
    {
     "name": "stdout",
     "output_type": "stream",
     "text": [
      "R2 score:  0.9251924828843394\n",
      "MSE score: 0.0554014089707124\n"
     ]
    }
   ],
   "source": [
    "from sklearn import metrics\n",
    "print(\"R2 score: \",knnModel.score(x,y))\n",
    "mse = metrics.mean_squared_error(y,predicted) #MSE\n",
    "print(\"MSE score:\",mse)"
   ]
  },
  {
   "cell_type": "code",
   "execution_count": 7,
   "metadata": {},
   "outputs": [
    {
     "data": {
      "text/plain": [
       "<function matplotlib.pyplot.show(close=None, block=None)>"
      ]
     },
     "execution_count": 7,
     "metadata": {},
     "output_type": "execute_result"
    },
    {
     "data": {
      "image/png": "[encoded data removed]",
      "text/plain": [
       "<Figure size 432x288 with 1 Axes>"
      ]
     },
     "metadata": {
      "needs_background": "light"
     },
     "output_type": "display_data"
    }
   ],
   "source": [
    "#plot \n",
    "plt.scatter(x,y, s=10, label = \"True\")\n",
    "plt.scatter(x,predicted,color=\"r\",s=10,label=\"Predicted\")\n",
    "plt.xlabel(\"x\")\n",
    "plt.ylabel(\"y\")\n",
    "plt.legend()\n",
    "plt.show"
   ]
  }
 ],
 "metadata": {
  "kernelspec": {
   "display_name": "base",
   "language": "python",
   "name": "python3"
  },
  "language_info": {
   "codemirror_mode": {
    "name": "ipython",
    "version": 3
   },
   "file_extension": ".py",
   "mimetype": "text/x-python",
   "name": "python",
   "nbconvert_exporter": "python",
   "pygments_lexer": "ipython3",
   "version": "3.9.7 (default, Sep 16 2021, 16:59:28) [MSC v.1916 64 bit (AMD64)]"
  },
  "orig_nbformat": 4,
  "vscode": {
   "interpreter": {
    "hash": "88279d2366fe020547cde40dd65aa0e3aa662a6ec1f3ca12d88834876c85e1a6"
   }
  }
 },
 "nbformat": 4,
 "nbformat_minor": 2
}
