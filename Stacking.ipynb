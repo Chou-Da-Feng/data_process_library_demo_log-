{
 "cells": [
  {
   "attachments": {},
   "cell_type": "markdown",
   "metadata": {},
   "source": [
    "### Stacking 堆疊法\n",
    "1. 產生出m個不同演算法的base learners 模型\n",
    "2. base learner 模型彼此間並無互相關聯\n",
    "3. 把m個 base learner 的輸出當成新的模型的輸入，另外再訓練一個模型"
   ]
  },
  {
   "attachments": {},
   "cell_type": "markdown",
   "metadata": {},
   "source": [
    "### Ensemble learning 小結\n",
    "Ensemble learning 有三種類型第一種為Bagging, 第二種為Boosting,第三種為Stacking\n",
    "\n",
    "1. Bagging 採用重新採樣技巧 :  Random Forest\n",
    "\n",
    "2. Boosting 一次產生一個新的模型，並補足前幾棵表現不好的部分:\n",
    "        AdaBoost、Gradient Boosting\n",
    "\n",
    "3. Stacking 結合許多弱學習器"
   ]
  },
  {
   "cell_type": "code",
   "execution_count": 1,
   "metadata": {},
   "outputs": [],
   "source": [
    "import pandas as pd             #進行資料處理函式庫\n",
    "import numpy as np              #高階大量的維度陣列與矩陣計算\n",
    "import matplotlib.pyplot as plt #繪圖\n",
    "import seaborn as sns           #繪圖\n",
    "import io                       #負責處理資料 input/output\n",
    "import requests                 #HTTP Request下載訓練資料用"
   ]
  },
  {
   "attachments": {},
   "cell_type": "markdown",
   "metadata": {},
   "source": [
    "### 載入資料集"
   ]
  },
  {
   "cell_type": "code",
   "execution_count": 3,
   "metadata": {},
   "outputs": [
    {
     "data": {
      "text/html": [
       "<div>\n",
       "<style scoped>\n",
       "    .dataframe tbody tr th:only-of-type {\n",
       "        vertical-align: middle;\n",
       "    }\n",
       "\n",
       "    .dataframe tbody tr th {\n",
       "        vertical-align: top;\n",
       "    }\n",
       "\n",
       "    .dataframe thead th {\n",
       "        text-align: right;\n",
       "    }\n",
       "</style>\n",
       "<table border=\"1\" class=\"dataframe\">\n",
       "  <thead>\n",
       "    <tr style=\"text-align: right;\">\n",
       "      <th></th>\n",
       "      <th>Elevation</th>\n",
       "      <th>Aspect</th>\n",
       "      <th>Slope</th>\n",
       "      <th>Horizontal_Distance_To_Hydrology</th>\n",
       "      <th>Vertical_Distance_To_Hydrology</th>\n",
       "      <th>Horizontal_Distance_To_Roadways</th>\n",
       "      <th>Hillshade_9am</th>\n",
       "      <th>Hillshade_Noon</th>\n",
       "      <th>Hillshade_3pm</th>\n",
       "      <th>Horizontal_Distance_To_Fire_Points</th>\n",
       "      <th>...</th>\n",
       "      <th>Soil_Type32</th>\n",
       "      <th>Soil_Type33</th>\n",
       "      <th>Soil_Type34</th>\n",
       "      <th>Soil_Type35</th>\n",
       "      <th>Soil_Type36</th>\n",
       "      <th>Soil_Type37</th>\n",
       "      <th>Soil_Type38</th>\n",
       "      <th>Soil_Type39</th>\n",
       "      <th>Soil_Type40</th>\n",
       "      <th>Cover_Type</th>\n",
       "    </tr>\n",
       "  </thead>\n",
       "  <tbody>\n",
       "    <tr>\n",
       "      <th>0</th>\n",
       "      <td>2941</td>\n",
       "      <td>32</td>\n",
       "      <td>4</td>\n",
       "      <td>108</td>\n",
       "      <td>12</td>\n",
       "      <td>3369</td>\n",
       "      <td>219</td>\n",
       "      <td>230</td>\n",
       "      <td>147</td>\n",
       "      <td>2574</td>\n",
       "      <td>...</td>\n",
       "      <td>0</td>\n",
       "      <td>0</td>\n",
       "      <td>0</td>\n",
       "      <td>0</td>\n",
       "      <td>0</td>\n",
       "      <td>0</td>\n",
       "      <td>0</td>\n",
       "      <td>0</td>\n",
       "      <td>0</td>\n",
       "      <td>2</td>\n",
       "    </tr>\n",
       "    <tr>\n",
       "      <th>1</th>\n",
       "      <td>2304</td>\n",
       "      <td>20</td>\n",
       "      <td>19</td>\n",
       "      <td>350</td>\n",
       "      <td>141</td>\n",
       "      <td>1423</td>\n",
       "      <td>203</td>\n",
       "      <td>195</td>\n",
       "      <td>124</td>\n",
       "      <td>939</td>\n",
       "      <td>...</td>\n",
       "      <td>0</td>\n",
       "      <td>0</td>\n",
       "      <td>0</td>\n",
       "      <td>0</td>\n",
       "      <td>0</td>\n",
       "      <td>0</td>\n",
       "      <td>0</td>\n",
       "      <td>0</td>\n",
       "      <td>0</td>\n",
       "      <td>3</td>\n",
       "    </tr>\n",
       "    <tr>\n",
       "      <th>2</th>\n",
       "      <td>3397</td>\n",
       "      <td>157</td>\n",
       "      <td>13</td>\n",
       "      <td>458</td>\n",
       "      <td>46</td>\n",
       "      <td>2255</td>\n",
       "      <td>234</td>\n",
       "      <td>241</td>\n",
       "      <td>136</td>\n",
       "      <td>474</td>\n",
       "      <td>...</td>\n",
       "      <td>0</td>\n",
       "      <td>0</td>\n",
       "      <td>0</td>\n",
       "      <td>0</td>\n",
       "      <td>0</td>\n",
       "      <td>0</td>\n",
       "      <td>1</td>\n",
       "      <td>0</td>\n",
       "      <td>0</td>\n",
       "      <td>7</td>\n",
       "    </tr>\n",
       "    <tr>\n",
       "      <th>3</th>\n",
       "      <td>2276</td>\n",
       "      <td>122</td>\n",
       "      <td>13</td>\n",
       "      <td>470</td>\n",
       "      <td>118</td>\n",
       "      <td>1423</td>\n",
       "      <td>242</td>\n",
       "      <td>229</td>\n",
       "      <td>114</td>\n",
       "      <td>920</td>\n",
       "      <td>...</td>\n",
       "      <td>0</td>\n",
       "      <td>0</td>\n",
       "      <td>0</td>\n",
       "      <td>0</td>\n",
       "      <td>0</td>\n",
       "      <td>0</td>\n",
       "      <td>0</td>\n",
       "      <td>0</td>\n",
       "      <td>0</td>\n",
       "      <td>4</td>\n",
       "    </tr>\n",
       "    <tr>\n",
       "      <th>4</th>\n",
       "      <td>2780</td>\n",
       "      <td>13</td>\n",
       "      <td>8</td>\n",
       "      <td>124</td>\n",
       "      <td>4</td>\n",
       "      <td>1959</td>\n",
       "      <td>212</td>\n",
       "      <td>223</td>\n",
       "      <td>148</td>\n",
       "      <td>2652</td>\n",
       "      <td>...</td>\n",
       "      <td>0</td>\n",
       "      <td>0</td>\n",
       "      <td>0</td>\n",
       "      <td>0</td>\n",
       "      <td>0</td>\n",
       "      <td>0</td>\n",
       "      <td>0</td>\n",
       "      <td>0</td>\n",
       "      <td>0</td>\n",
       "      <td>5</td>\n",
       "    </tr>\n",
       "    <tr>\n",
       "      <th>...</th>\n",
       "      <td>...</td>\n",
       "      <td>...</td>\n",
       "      <td>...</td>\n",
       "      <td>...</td>\n",
       "      <td>...</td>\n",
       "      <td>...</td>\n",
       "      <td>...</td>\n",
       "      <td>...</td>\n",
       "      <td>...</td>\n",
       "      <td>...</td>\n",
       "      <td>...</td>\n",
       "      <td>...</td>\n",
       "      <td>...</td>\n",
       "      <td>...</td>\n",
       "      <td>...</td>\n",
       "      <td>...</td>\n",
       "      <td>...</td>\n",
       "      <td>...</td>\n",
       "      <td>...</td>\n",
       "      <td>...</td>\n",
       "      <td>...</td>\n",
       "    </tr>\n",
       "    <tr>\n",
       "      <th>14359</th>\n",
       "      <td>2317</td>\n",
       "      <td>322</td>\n",
       "      <td>28</td>\n",
       "      <td>30</td>\n",
       "      <td>18</td>\n",
       "      <td>1008</td>\n",
       "      <td>138</td>\n",
       "      <td>199</td>\n",
       "      <td>195</td>\n",
       "      <td>930</td>\n",
       "      <td>...</td>\n",
       "      <td>0</td>\n",
       "      <td>0</td>\n",
       "      <td>0</td>\n",
       "      <td>0</td>\n",
       "      <td>0</td>\n",
       "      <td>0</td>\n",
       "      <td>0</td>\n",
       "      <td>0</td>\n",
       "      <td>0</td>\n",
       "      <td>6</td>\n",
       "    </tr>\n",
       "    <tr>\n",
       "      <th>14360</th>\n",
       "      <td>3187</td>\n",
       "      <td>337</td>\n",
       "      <td>22</td>\n",
       "      <td>488</td>\n",
       "      <td>80</td>\n",
       "      <td>3728</td>\n",
       "      <td>165</td>\n",
       "      <td>203</td>\n",
       "      <td>174</td>\n",
       "      <td>1583</td>\n",
       "      <td>...</td>\n",
       "      <td>0</td>\n",
       "      <td>0</td>\n",
       "      <td>0</td>\n",
       "      <td>0</td>\n",
       "      <td>0</td>\n",
       "      <td>0</td>\n",
       "      <td>0</td>\n",
       "      <td>1</td>\n",
       "      <td>0</td>\n",
       "      <td>2</td>\n",
       "    </tr>\n",
       "    <tr>\n",
       "      <th>14361</th>\n",
       "      <td>2724</td>\n",
       "      <td>36</td>\n",
       "      <td>28</td>\n",
       "      <td>175</td>\n",
       "      <td>94</td>\n",
       "      <td>1321</td>\n",
       "      <td>205</td>\n",
       "      <td>167</td>\n",
       "      <td>81</td>\n",
       "      <td>655</td>\n",
       "      <td>...</td>\n",
       "      <td>0</td>\n",
       "      <td>1</td>\n",
       "      <td>0</td>\n",
       "      <td>0</td>\n",
       "      <td>0</td>\n",
       "      <td>0</td>\n",
       "      <td>0</td>\n",
       "      <td>0</td>\n",
       "      <td>0</td>\n",
       "      <td>6</td>\n",
       "    </tr>\n",
       "    <tr>\n",
       "      <th>14362</th>\n",
       "      <td>3271</td>\n",
       "      <td>273</td>\n",
       "      <td>12</td>\n",
       "      <td>573</td>\n",
       "      <td>148</td>\n",
       "      <td>3621</td>\n",
       "      <td>186</td>\n",
       "      <td>243</td>\n",
       "      <td>196</td>\n",
       "      <td>1997</td>\n",
       "      <td>...</td>\n",
       "      <td>0</td>\n",
       "      <td>1</td>\n",
       "      <td>0</td>\n",
       "      <td>0</td>\n",
       "      <td>0</td>\n",
       "      <td>0</td>\n",
       "      <td>0</td>\n",
       "      <td>0</td>\n",
       "      <td>0</td>\n",
       "      <td>2</td>\n",
       "    </tr>\n",
       "    <tr>\n",
       "      <th>14363</th>\n",
       "      <td>2697</td>\n",
       "      <td>76</td>\n",
       "      <td>8</td>\n",
       "      <td>0</td>\n",
       "      <td>0</td>\n",
       "      <td>1323</td>\n",
       "      <td>230</td>\n",
       "      <td>226</td>\n",
       "      <td>128</td>\n",
       "      <td>684</td>\n",
       "      <td>...</td>\n",
       "      <td>0</td>\n",
       "      <td>0</td>\n",
       "      <td>0</td>\n",
       "      <td>0</td>\n",
       "      <td>0</td>\n",
       "      <td>0</td>\n",
       "      <td>0</td>\n",
       "      <td>0</td>\n",
       "      <td>0</td>\n",
       "      <td>5</td>\n",
       "    </tr>\n",
       "  </tbody>\n",
       "</table>\n",
       "<p>14364 rows × 55 columns</p>\n",
       "</div>"
      ],
      "text/plain": [
       "       Elevation  Aspect  Slope  Horizontal_Distance_To_Hydrology  \\\n",
       "0           2941      32      4                               108   \n",
       "1           2304      20     19                               350   \n",
       "2           3397     157     13                               458   \n",
       "3           2276     122     13                               470   \n",
       "4           2780      13      8                               124   \n",
       "...          ...     ...    ...                               ...   \n",
       "14359       2317     322     28                                30   \n",
       "14360       3187     337     22                               488   \n",
       "14361       2724      36     28                               175   \n",
       "14362       3271     273     12                               573   \n",
       "14363       2697      76      8                                 0   \n",
       "\n",
       "       Vertical_Distance_To_Hydrology  Horizontal_Distance_To_Roadways  \\\n",
       "0                                  12                             3369   \n",
       "1                                 141                             1423   \n",
       "2                                  46                             2255   \n",
       "3                                 118                             1423   \n",
       "4                                   4                             1959   \n",
       "...                               ...                              ...   \n",
       "14359                              18                             1008   \n",
       "14360                              80                             3728   \n",
       "14361                              94                             1321   \n",
       "14362                             148                             3621   \n",
       "14363                               0                             1323   \n",
       "\n",
       "       Hillshade_9am  Hillshade_Noon  Hillshade_3pm  \\\n",
       "0                219             230            147   \n",
       "1                203             195            124   \n",
       "2                234             241            136   \n",
       "3                242             229            114   \n",
       "4                212             223            148   \n",
       "...              ...             ...            ...   \n",
       "14359            138             199            195   \n",
       "14360            165             203            174   \n",
       "14361            205             167             81   \n",
       "14362            186             243            196   \n",
       "14363            230             226            128   \n",
       "\n",
       "       Horizontal_Distance_To_Fire_Points  ...  Soil_Type32  Soil_Type33  \\\n",
       "0                                    2574  ...            0            0   \n",
       "1                                     939  ...            0            0   \n",
       "2                                     474  ...            0            0   \n",
       "3                                     920  ...            0            0   \n",
       "4                                    2652  ...            0            0   \n",
       "...                                   ...  ...          ...          ...   \n",
       "14359                                 930  ...            0            0   \n",
       "14360                                1583  ...            0            0   \n",
       "14361                                 655  ...            0            1   \n",
       "14362                                1997  ...            0            1   \n",
       "14363                                 684  ...            0            0   \n",
       "\n",
       "       Soil_Type34  Soil_Type35  Soil_Type36  Soil_Type37  Soil_Type38  \\\n",
       "0                0            0            0            0            0   \n",
       "1                0            0            0            0            0   \n",
       "2                0            0            0            0            1   \n",
       "3                0            0            0            0            0   \n",
       "4                0            0            0            0            0   \n",
       "...            ...          ...          ...          ...          ...   \n",
       "14359            0            0            0            0            0   \n",
       "14360            0            0            0            0            0   \n",
       "14361            0            0            0            0            0   \n",
       "14362            0            0            0            0            0   \n",
       "14363            0            0            0            0            0   \n",
       "\n",
       "       Soil_Type39  Soil_Type40  Cover_Type  \n",
       "0                0            0           2  \n",
       "1                0            0           3  \n",
       "2                0            0           7  \n",
       "3                0            0           4  \n",
       "4                0            0           5  \n",
       "...            ...          ...         ...  \n",
       "14359            0            0           6  \n",
       "14360            1            0           2  \n",
       "14361            0            0           6  \n",
       "14362            0            0           2  \n",
       "14363            0            0           5  \n",
       "\n",
       "[14364 rows x 55 columns]"
      ]
     },
     "execution_count": 3,
     "metadata": {},
     "output_type": "execute_result"
    }
   ],
   "source": [
    "url = \"https://raw.githubusercontent.com/andy6804tw/2020-12th-ironman/master/dataset/forest/train.csv\"\n",
    "s = requests.get(url).content\n",
    "df_data = pd.read_csv(io.StringIO(s.decode(\"utf-8\")))\n",
    "df_data = df_data.drop(labels=[\"Id\"],axis=1)    #移除Id  axis= 1為行 0為列\n",
    "df_data"
   ]
  },
  {
   "attachments": {},
   "cell_type": "markdown",
   "metadata": {},
   "source": [
    "### 檢查缺失值\n",
    "使用numpy 所提供的函式來檢查是否有NA缺失值，假設有缺失值使用dropna()來移除。使用的時機在於當只有少量的缺失值適用，若遇到大量缺失值的情況，或是本身的資料量就很少的情況下建議可以透過機器學習的方法補值來預測缺失值。"
   ]
  },
  {
   "cell_type": "code",
   "execution_count": 7,
   "metadata": {},
   "outputs": [],
   "source": [
    "#移除缺失值\n",
    "#train = train.dropna()"
   ]
  },
  {
   "cell_type": "code",
   "execution_count": 5,
   "metadata": {},
   "outputs": [
    {
     "name": "stdout",
     "output_type": "stream",
     "text": [
      "Before data clean(NAN mount): 0\n"
     ]
    }
   ],
   "source": [
    "#check missing data\n",
    "print(\"Before data clean(NAN mount):\",len(np.where(np.isnan(df_data))[0]))"
   ]
  },
  {
   "attachments": {},
   "cell_type": "markdown",
   "metadata": {},
   "source": [
    "### 資料前處理\n",
    "#### 特徵標準化\n",
    "通常有兩種標準化的方法:\n",
    "1. min max normalization : 會將特徵數據按比例縮放到0到1區間，(或是-1到1)\n",
    "\n",
    "2. standard deviation normalization : 會將所有特徵數據縮放成平均為0、平方差為1\n",
    "\n",
    "\n",
    "#### 特徵組合\n",
    "特徵需要適當地增加和減少，以提升精確度並減少計算時間\n",
    "\n",
    "1. 增加特徵 : 特徵組合(Feature Combination)、群聚編碼(GroupBy Encoding)、產生合成樣本(Oversampling)\n",
    "\n",
    "2. 減少特徵 : 特徵篩選(Feature Selection) 、 剔除一些樣本(Undersampling)"
   ]
  },
  {
   "cell_type": "code",
   "execution_count": 8,
   "metadata": {},
   "outputs": [],
   "source": [
    "from sklearn.preprocessing import StandardScaler\n",
    "\n",
    "def data_preprocessing(df_input):\n",
    "    sc = StandardScaler()\n",
    "    df = sc.fit_transform(df_input.iloc[:,0:54])\n",
    "    return df"
   ]
  },
  {
   "cell_type": "code",
   "execution_count": 9,
   "metadata": {},
   "outputs": [],
   "source": [
    "#取得54個特徵x\n",
    "X = data_preprocessing(df_data)"
   ]
  },
  {
   "cell_type": "code",
   "execution_count": 10,
   "metadata": {},
   "outputs": [
    {
     "data": {
      "text/plain": [
       "(14364, 54)"
      ]
     },
     "execution_count": 10,
     "metadata": {},
     "output_type": "execute_result"
    }
   ],
   "source": [
    "X.shape"
   ]
  },
  {
   "cell_type": "code",
   "execution_count": 11,
   "metadata": {},
   "outputs": [],
   "source": [
    "# 取得標籤y\n",
    "y = df_data[\"Cover_Type\"].values-1   #程式運作大多都從0開始，所以要-1"
   ]
  },
  {
   "cell_type": "code",
   "execution_count": 12,
   "metadata": {},
   "outputs": [
    {
     "data": {
      "text/plain": [
       "(14364,)"
      ]
     },
     "execution_count": 12,
     "metadata": {},
     "output_type": "execute_result"
    }
   ],
   "source": [
    "y.shape"
   ]
  },
  {
   "attachments": {},
   "cell_type": "markdown",
   "metadata": {},
   "source": [
    "### 切割訓練集與測試集"
   ]
  },
  {
   "cell_type": "code",
   "execution_count": 18,
   "metadata": {},
   "outputs": [],
   "source": [
    "from sklearn.model_selection import train_test_split\n",
    "X_train , X_test , y_train , y_test = train_test_split(X,y,test_size=.3,random_state=42)"
   ]
  },
  {
   "cell_type": "code",
   "execution_count": 19,
   "metadata": {},
   "outputs": [
    {
     "name": "stdout",
     "output_type": "stream",
     "text": [
      "訓練集:  (10054, 54)\n",
      "測試集:  (4310, 54)\n"
     ]
    }
   ],
   "source": [
    "print(\"訓練集: \", X_train.shape)\n",
    "print(\"測試集: \",X_test.shape)"
   ]
  },
  {
   "attachments": {},
   "cell_type": "markdown",
   "metadata": {},
   "source": [
    "### XGBoost 模型\n",
    "使用 XGBoost 訓練，並將結果與Stacking 做比較。"
   ]
  },
  {
   "cell_type": "code",
   "execution_count": 16,
   "metadata": {},
   "outputs": [
    {
     "name": "stderr",
     "output_type": "stream",
     "text": [
      "d:\\Anaconda\\lib\\site-packages\\xgboost\\sklearn.py:1224: UserWarning: The use of label encoder in XGBClassifier is deprecated and will be removed in a future release. To remove this warning, do the following: 1) Pass option use_label_encoder=False when constructing XGBClassifier object; and 2) Encode your labels (y) as integers starting with 0, i.e. 0, 1, 2, ..., [num_class - 1].\n",
      "  warnings.warn(label_encoder_deprecation_msg, UserWarning)\n"
     ]
    },
    {
     "name": "stdout",
     "output_type": "stream",
     "text": [
      "[19:21:05] WARNING: ..\\src\\learner.cc:1115: Starting in XGBoost 1.3.0, the default evaluation metric used with the objective 'multi:softprob' was changed from 'merror' to 'mlogloss'. Explicitly set eval_metric if you'd like to restore the old behavior.\n"
     ]
    }
   ],
   "source": [
    "from xgboost import XGBClassifier\n",
    "\n",
    "#建立XGBClassifier模型\n",
    "xgboostModel = XGBClassifier()\n",
    "\n",
    "#使用訓練資料模型\n",
    "xgboostModel.fit(X_train,y_train)\n",
    "\n",
    "#使用訓練資料預測分類\n",
    "predicted = xgboostModel.predict(X_train)"
   ]
  },
  {
   "cell_type": "code",
   "execution_count": 22,
   "metadata": {},
   "outputs": [
    {
     "name": "stdout",
     "output_type": "stream",
     "text": [
      "訓練集準確率:  0.9863735826536701\n",
      "測試集準確率:  0.9846867749419954\n"
     ]
    }
   ],
   "source": [
    "from sklearn.metrics import accuracy_score\n",
    "\n",
    "predicted = xgboostModel.predict(X_train)\n",
    "print(\"訓練集準確率: \",accuracy_score(y_train,predicted))\n",
    "\n",
    "predicted = xgboostModel.predict(X_test)\n",
    "print(\"測試集準確率: \",accuracy_score(y_test,predicted))"
   ]
  },
  {
   "attachments": {},
   "cell_type": "markdown",
   "metadata": {},
   "source": [
    "### Stacking模型\n",
    "Stacking 結合許多弱學習器，將所有的弱學習器的輸出當作新的模型的輸入接著預測最終結果\n",
    "\n",
    "Paremeter:\n",
    "1. estimatorsl : m個弱學習器\n",
    "2. final_estimator : 集合所有弱學習器的輸出，訓練一個最終預測模型。預設為 LogisticRegression\n",
    "\n",
    "Attributes :\n",
    "1. estimators_ : 查看弱學習器組合\n",
    "2. final_estimator : 查看最終整合訓練模型\n",
    "\n",
    "Methods :\n",
    "1. fit : 放入X、y進行模型擬合\n",
    "2. predict : 預測並回傳預測類別\n",
    "3. score : 預測成功的比例\n",
    "4. predict_proba : 預測每個類別的機率值"
   ]
  },
  {
   "cell_type": "code",
   "execution_count": 25,
   "metadata": {},
   "outputs": [
    {
     "name": "stderr",
     "output_type": "stream",
     "text": [
      "d:\\Anaconda\\lib\\site-packages\\sklearn\\linear_model\\_logistic.py:763: ConvergenceWarning: lbfgs failed to converge (status=1):\n",
      "STOP: TOTAL NO. of ITERATIONS REACHED LIMIT.\n",
      "\n",
      "Increase the number of iterations (max_iter) or scale the data as shown in:\n",
      "    https://scikit-learn.org/stable/modules/preprocessing.html\n",
      "Please also refer to the documentation for alternative solver options:\n",
      "    https://scikit-learn.org/stable/modules/linear_model.html#logistic-regression\n",
      "  n_iter_i = _check_optimize_result(\n"
     ]
    },
    {
     "data": {
      "text/plain": [
       "0.8545243619489559"
      ]
     },
     "execution_count": 25,
     "metadata": {},
     "output_type": "execute_result"
    }
   ],
   "source": [
    "from sklearn.datasets import load_iris\n",
    "from sklearn.ensemble import RandomForestClassifier\n",
    "from sklearn.svm import LinearSVC\n",
    "from sklearn.linear_model import LogisticRegression\n",
    "from sklearn.preprocessing import StandardScaler\n",
    "from sklearn import svm\n",
    "from sklearn.neighbors import KNeighborsClassifier\n",
    "from sklearn.tree import DecisionTreeClassifier\n",
    "from sklearn.ensemble import StackingClassifier\n",
    "\n",
    "estimators = [\n",
    "    (\"rf\",RandomForestClassifier()),\n",
    "    ('svc',svm.SVC()),\n",
    "    (\"knn\",KNeighborsClassifier()),\n",
    "    ('dt',DecisionTreeClassifier())\n",
    "]\n",
    "\n",
    "clf = StackingClassifier(\n",
    "    estimators = estimators,final_estimator = LogisticRegression()\n",
    ")\n",
    "\n",
    "clf.fit(X_train,y_train).score(X_test,y_test)"
   ]
  },
  {
   "attachments": {},
   "cell_type": "markdown",
   "metadata": {},
   "source": [
    "### 測試集預測"
   ]
  },
  {
   "cell_type": "code",
   "execution_count": 26,
   "metadata": {},
   "outputs": [
    {
     "name": "stdout",
     "output_type": "stream",
     "text": [
      "訓練集準確率:  0.9991048338969565\n",
      "測試集準確率:  0.8545243619489559\n"
     ]
    }
   ],
   "source": [
    "from sklearn.metrics import accuracy_score\n",
    "\n",
    "predicted = clf.predict(X_train)\n",
    "print(\"訓練集準確率: \",accuracy_score(y_train,predicted))\n",
    "\n",
    "predicted = clf.predict(X_test)\n",
    "print(\"測試集準確率: \",accuracy_score(y_test,predicted))"
   ]
  }
 ],
 "metadata": {
  "kernelspec": {
   "display_name": "env",
   "language": "python",
   "name": "python3"
  },
  "language_info": {
   "codemirror_mode": {
    "name": "ipython",
    "version": 3
   },
   "file_extension": ".py",
   "mimetype": "text/x-python",
   "name": "python",
   "nbconvert_exporter": "python",
   "pygments_lexer": "ipython3",
   "version": "3.9.13"
  },
  "orig_nbformat": 4,
  "vscode": {
   "interpreter": {
    "hash": "4d8f8f06aeace86465c4ac3ec675eb8f9a9c033fa019aea5d2555af33b1b9ed1"
   }
  }
 },
 "nbformat": 4,
 "nbformat_minor": 2
}
